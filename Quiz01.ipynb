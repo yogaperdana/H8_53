{
 "cells": [
  {
   "cell_type": "markdown",
   "metadata": {
    "id": "ibzHoBFhoYiw"
   },
   "source": [
    "# Mini Quiz 1\n",
    "\n",
    "There are 2 types of questions:\n",
    "1. **Essay**, which is stated in a markdown format and therefore you must answer it in a markdown format, in the specified space\n",
    "2. **Code**, which requires you to code to solve the problem asked."
   ]
  },
  {
   "cell_type": "markdown",
   "metadata": {
    "id": "xGfjXvmsozii"
   },
   "source": [
    "## Question 1\n",
    "---\n",
    "\n",
    "(a) What is Anaconda and why do we need it?\n",
    "\n",
    "(b) List other package and environment managers, other than Anaconda or Miniconda, that have the same purpose!\n",
    "\n",
    "**Your Answer**\n",
    "\n",
    "(a) Anaconda is a distribution of packages built for data science. It comes with conda, a package, and environment manager. Conda is used to create environments for isolating projects that use different versions of Python and/or different version of packages. Also use it to install, uninstall, and update packages in project environments.\n",
    "\n",
    "(b) Other package and environment managers other than conda:\n",
    "\n",
    "Python Version Management:\n",
    "- [pyenv](https://github.com/pyenv/pyenv)\n",
    "\n",
    "Virtual Environments:\n",
    "- [venv](https://docs.python.org/3/library/venv.html)\n",
    "- [pyenv-virtualenv](https://github.com/pyenv/pyenv-virtualenv)\n",
    "- [pipenv](https://docs.pipenv.org/en/latest/)\n",
    "\n",
    "Package Management\n",
    "- pip\n",
    "- [poetry](https://poetry.eustace.io/)"
   ]
  },
  {
   "cell_type": "markdown",
   "metadata": {
    "id": "fhP7JDyQpM2U"
   },
   "source": [
    "## Question 2\n",
    "---\n",
    "\n",
    "(a) What are the differences between *python notebook* and *python script*?\n",
    "\n",
    "(b) What are the drawbacks of *python notebook* and *python script*?\n",
    "\n",
    "**Your Answers**\n",
    "\n",
    "(a)\n",
    "\n",
    "Python notebook is a document file contain both Python program codes and rich text elements (paragraph, equations, figures, links, etc.). It has the file extension `.ipynb` and can be accessed by Jupyter Notebook app or alternatively by Google Collab. User can running each Python codes separately by snippets.\n",
    "\n",
    "Python script is basically a file containing code written in Python and it has the file extension `.py`. To run the Python script, we need a Python interpreter and use it directly with Command Line Interface (CLI) like Command Prompt/PowerShell in Windows OS or Terminal in Unix/Linux-based OS.\n",
    "\n",
    "(b)\n",
    "\n",
    "Python notebook offers creating human-readable documents containing the analysis description and the results (figures, tables, etc.) with simple steps, but it can be more unorganized and difficult to debug if the code and data gets bigger. Python notebook is not ideal for production stage which is usually performed with automation process.\n",
    "\n",
    "Python script is mostly used for any projects or porposes with many flexibility options for maintain. For creating a simple analytic document for data science, it'll require some works than using Python notebook."
   ]
  },
  {
   "cell_type": "markdown",
   "metadata": {
    "id": "hSAIV5FVplSG"
   },
   "source": [
    "## Question 3\n",
    "\n",
    "Create a function called `generate_username` that takes a list of names (in `string`) as input and returns a list of username-like for each name with some rules:\n",
    "* the username must be in lowercase\n",
    "* each word name is separated by underscore (`_`)\n",
    "* the username doesn't contain any punctuations (`.,;\\/` etc.)\n",
    "\n",
    "For example:\n",
    "* case 1:\n",
    "    * **input**: `names = [\"Zidane Akbar\", \"M. Hidayat\", \"Josh Farro\"]`\n",
    "    * **output**: `[\"zidane_akbar\", \"m_hidayat\", \"josh_farro\"]`\n",
    "* case 2:\n",
    "    * **input**: `names = [\"Akbar\", \"Anthony Sinisuka Ginting\", \"Farah S\"]`\n",
    "    * **output**: `[\"akbar\", \"anthony_sinisuka_ginting\", \"farah_s\"]`"
   ]
  },
  {
   "cell_type": "code",
   "execution_count": 1,
   "metadata": {
    "id": "lGl77nGAoVc0"
   },
   "outputs": [],
   "source": [
    "def generate_username(names):\n",
    "    list_new_name = []\n",
    "    punc = '.,;\\/' # complete: '''!()-[]{};:'\"\\,<>./?@#$%^&*_~'''\n",
    "    for name in names:\n",
    "        for char in name:\n",
    "            if char in punc:\n",
    "                name = name.replace(char, '')\n",
    "        list_new_name.append(name.lower().replace(' ', '_'))\n",
    "    return list_new_name"
   ]
  },
  {
   "cell_type": "code",
   "execution_count": 2,
   "metadata": {
    "id": "oHO3LYLVs0zD"
   },
   "outputs": [
    {
     "name": "stdout",
     "output_type": "stream",
     "text": [
      "['zidane_akbar', 'm_hidayat', 'josh_farro']\n",
      "['akbar', 'anthony_sinisuka_ginting', 'farah_s']\n"
     ]
    }
   ],
   "source": [
    "names = [\"Zidane Akbar\", \"M. Hidayat\", \"Josh Farro\"]\n",
    "print(generate_username(names))\n",
    "names = [\"Akbar\", \"Anthony Sinisuka Ginting\", \"Farah S\"]\n",
    "print(generate_username(names))"
   ]
  },
  {
   "cell_type": "markdown",
   "metadata": {
    "id": "AteaXk-ErxHp"
   },
   "source": [
    "## Question 4\n",
    "\n",
    "Create a function called `factorial` that takes an integer `n` and returns $n!$.\n",
    "\n",
    "For example:\n",
    "* case 1:\n",
    "    * **input**: `n = 4`\n",
    "    * **output**: `24`\n",
    "* case 2:\n",
    "    * **input**: `n = 0`\n",
    "    * **output**: `1`\n",
    "* case 3:\n",
    "    * **input**: `n = 1`\n",
    "    * **output**: `1`"
   ]
  },
  {
   "cell_type": "code",
   "execution_count": 3,
   "metadata": {
    "id": "XNCcegqorspB"
   },
   "outputs": [],
   "source": [
    "def factorial(n):\n",
    "    f = 1\n",
    "    for i in range(1, n+1):\n",
    "        f = f*i\n",
    "    return f"
   ]
  },
  {
   "cell_type": "code",
   "execution_count": 4,
   "metadata": {
    "id": "ZLG98qfTs4rm"
   },
   "outputs": [
    {
     "name": "stdout",
     "output_type": "stream",
     "text": [
      "24\n",
      "1\n",
      "1\n"
     ]
    }
   ],
   "source": [
    "print(factorial(4))\n",
    "print(factorial(0))\n",
    "print(factorial(1))"
   ]
  },
  {
   "cell_type": "code",
   "execution_count": null,
   "metadata": {},
   "outputs": [],
   "source": []
  }
 ],
 "metadata": {
  "colab": {
   "collapsed_sections": [],
   "name": "Yoga Perdana Putra - PYTN53_Q1.ipynb",
   "provenance": []
  },
  "kernelspec": {
   "display_name": "Python 3",
   "language": "python",
   "name": "python3"
  },
  "language_info": {
   "codemirror_mode": {
    "name": "ipython",
    "version": 3
   },
   "file_extension": ".py",
   "mimetype": "text/x-python",
   "name": "python",
   "nbconvert_exporter": "python",
   "pygments_lexer": "ipython3",
   "version": "3.9.4"
  }
 },
 "nbformat": 4,
 "nbformat_minor": 1
}
