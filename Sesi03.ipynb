{
 "cells": [
  {
   "cell_type": "markdown",
   "id": "42cd7970",
   "metadata": {},
   "source": [
    "# Fungsi, Modul, Package\n",
    "\n",
    "**Introduction to Python for Data Science** \\\n",
    "Course with Hacktiv8\n",
    "\n",
    "***\n",
    "\n",
    "**Sesi 3**\n",
    "\n",
    "Selasa, 4 Mei 2021 • 19:00 - 22:00 WIB\n",
    "\n",
    "- Fungsi\n",
    "- Modul-Modul Dasar\n",
    "- *Package*\n",
    "\n",
    "***"
   ]
  },
  {
   "cell_type": "markdown",
   "id": "3de16190",
   "metadata": {},
   "source": [
    "## Function\n",
    "Blok kode yang terorganisir dan dapat digunakan kembali untuk melakukan satu tindakan terkait.\n",
    "\n",
    "Penulisan:\n",
    "```\n",
    "def function_name( <argument(s)> ):\n",
    "    \"docstring (optional)\"\n",
    "    <statement(s)>\n",
    "```"
   ]
  },
  {
   "cell_type": "code",
   "execution_count": 1,
   "id": "ba6427a3",
   "metadata": {},
   "outputs": [],
   "source": [
    "def call_me():\n",
    "    return \"hello\"\n",
    "\n",
    "def calculate_area(p, l):\n",
    "    \"menghitung luas\"\n",
    "    area = p * l\n",
    "    return area\n",
    "\n",
    "def calculate_volume(p, l, t):\n",
    "    \"menghitung volume\"\n",
    "    volume = p * l * t\n",
    "    return volume\n",
    "\n",
    "def print_volume(x, y, z):\n",
    "    volume = x * y * z\n",
    "    print(volume)"
   ]
  },
  {
   "cell_type": "markdown",
   "id": "d53cc09f",
   "metadata": {},
   "source": [
    "Memanggil fungsi:"
   ]
  },
  {
   "cell_type": "code",
   "execution_count": 2,
   "id": "58d9b447",
   "metadata": {},
   "outputs": [
    {
     "data": {
      "text/plain": [
       "'hello'"
      ]
     },
     "execution_count": 2,
     "metadata": {},
     "output_type": "execute_result"
    }
   ],
   "source": [
    "call_me()"
   ]
  },
  {
   "cell_type": "code",
   "execution_count": 3,
   "id": "ded7b14a",
   "metadata": {},
   "outputs": [
    {
     "name": "stdout",
     "output_type": "stream",
     "text": [
      "hello\n"
     ]
    }
   ],
   "source": [
    "print(call_me())"
   ]
  },
  {
   "cell_type": "markdown",
   "id": "ba6c2abd",
   "metadata": {},
   "source": [
    "_Required arguments_: Argumen yang diteruskan ke suatu fungsi dalam urutan posisi yang benar"
   ]
  },
  {
   "cell_type": "code",
   "execution_count": 4,
   "id": "66f50214",
   "metadata": {},
   "outputs": [
    {
     "data": {
      "text/plain": [
       "1000"
      ]
     },
     "execution_count": 4,
     "metadata": {},
     "output_type": "execute_result"
    }
   ],
   "source": [
    "x = 100\n",
    "y = 10\n",
    "\n",
    "calculate_area(x, y)"
   ]
  },
  {
   "cell_type": "code",
   "execution_count": 5,
   "id": "8dfd2c8c",
   "metadata": {},
   "outputs": [
    {
     "data": {
      "text/plain": [
       "30"
      ]
     },
     "execution_count": 5,
     "metadata": {},
     "output_type": "execute_result"
    }
   ],
   "source": [
    "calculate_volume(1, 10, 3)"
   ]
  },
  {
   "cell_type": "code",
   "execution_count": 6,
   "id": "d3936e50",
   "metadata": {},
   "outputs": [
    {
     "name": "stdout",
     "output_type": "stream",
     "text": [
      "24\n",
      "60 <class 'int'>\n",
      "None <class 'NoneType'>\n"
     ]
    }
   ],
   "source": [
    "volume_1 = calculate_volume(2, 3, 10)\n",
    "volume_2 = print_volume(2, 3, 4)\n",
    "\n",
    "print(volume_1, type(volume_1))\n",
    "print(volume_2, type(volume_2))"
   ]
  },
  {
   "cell_type": "markdown",
   "id": "20078d00",
   "metadata": {},
   "source": [
    "_Keyword arguments_: Memanggil fungsi dengan mengidentifikasi argumen dengan nama parameter"
   ]
  },
  {
   "cell_type": "code",
   "execution_count": 7,
   "id": "50ed5800",
   "metadata": {},
   "outputs": [
    {
     "name": "stdout",
     "output_type": "stream",
     "text": [
      "1000\n",
      "30\n",
      "30\n"
     ]
    }
   ],
   "source": [
    "print(calculate_area(l=x, p=y))\n",
    "print(calculate_volume(l=10, t=3, p=1))\n",
    "print(calculate_volume(1, 10, t=3))"
   ]
  },
  {
   "cell_type": "code",
   "execution_count": 8,
   "id": "cd8a9685",
   "metadata": {},
   "outputs": [
    {
     "name": "stdout",
     "output_type": "stream",
     "text": [
      "Name: a\n",
      "Age: 4\n"
     ]
    }
   ],
   "source": [
    "def printinfo( name, age ):\n",
    "   \"This prints a passed info into this function\"\n",
    "   print(\"Name:\", name)\n",
    "   print(\"Age:\", age)\n",
    "\n",
    "printinfo(age=4, name=\"a\")"
   ]
  },
  {
   "cell_type": "markdown",
   "id": "85b50840",
   "metadata": {},
   "source": [
    "_Default arguments_: Argumen yang mengasumsikan nilai bawaan (_default_) jika nilai tidak disediakan dalam pemanggilan fungsi untuk argumen tersebut"
   ]
  },
  {
   "cell_type": "code",
   "execution_count": 9,
   "id": "696d3e9a",
   "metadata": {},
   "outputs": [
    {
     "data": {
      "text/plain": [
       "'from h8: Hello world!'"
      ]
     },
     "execution_count": 9,
     "metadata": {},
     "output_type": "execute_result"
    }
   ],
   "source": [
    "def new_print(obj, prefix=\"from h8: \"):\n",
    "    return str(prefix) + str(obj)\n",
    "\n",
    "new_print(\"Hello world!\")"
   ]
  },
  {
   "cell_type": "code",
   "execution_count": 10,
   "id": "737b5624",
   "metadata": {},
   "outputs": [
    {
     "name": "stdout",
     "output_type": "stream",
     "text": [
      "Name: hacktiv8\n",
      "Age: 50\n",
      "Name: hacktiv\n",
      "Age: 26\n"
     ]
    }
   ],
   "source": [
    "def printinfo(name, age=26):\n",
    "   \"This prints a passed info into this function\"\n",
    "   print(\"Name:\", name)\n",
    "   print(\"Age:\", age)\n",
    "\n",
    "printinfo(age=50, name=\"hacktiv8\")\n",
    "printinfo(name=\"hacktiv\")"
   ]
  },
  {
   "cell_type": "markdown",
   "id": "2317c8b5",
   "metadata": {},
   "source": [
    "_Variable-length arguments_: Untuk menerima lebih banyak argumen daripada yang telah ditentukan saat mendefinisikan fungsi\n",
    "\n",
    "Sintaks:\n",
    "```\n",
    "def functionname([formal_args,] *var_args_tuple):\n",
    "   \"function_docstring\"\n",
    "   function_suite\n",
    "   return [expression]\n",
    "```"
   ]
  },
  {
   "cell_type": "code",
   "execution_count": 11,
   "id": "bb43cf4a",
   "metadata": {},
   "outputs": [
    {
     "name": "stdout",
     "output_type": "stream",
     "text": [
      "Output is:\n",
      "10\n",
      "Output is:\n",
      "70\n",
      "60\n",
      "50\n",
      "a\n"
     ]
    }
   ],
   "source": [
    "def printinfo( arg1, *vartuple ):\n",
    "   \"This prints a variable passed arguments\"\n",
    "   print(\"Output is:\")\n",
    "   print(arg1)\n",
    "   for var in vartuple:\n",
    "      print(var)\n",
    "   return;\n",
    "\n",
    "printinfo(10)\n",
    "printinfo(70, 60, 50, \"a\")"
   ]
  },
  {
   "cell_type": "markdown",
   "id": "4bef19b3",
   "metadata": {},
   "source": [
    "The `return` statement:\n",
    "\n",
    "Secara opsional meneruskan ekspresi ke pemanggil. Pernyataan _return_ tanpa argumen sama dengan `return None`."
   ]
  },
  {
   "cell_type": "code",
   "execution_count": 12,
   "id": "06bb7855",
   "metadata": {},
   "outputs": [
    {
     "name": "stdout",
     "output_type": "stream",
     "text": [
      "Inside the function: 30\n",
      "Outside the function: 40\n"
     ]
    }
   ],
   "source": [
    "def sum(arg1, arg2):\n",
    "    # Add both the parameters and return them.\"\n",
    "    total = arg1 + arg2\n",
    "    total2 = total + arg1\n",
    "    print(\"Inside the function:\", total)\n",
    "    return total2\n",
    "\n",
    "total = sum(10, 20)\n",
    "print(\"Outside the function:\", total)"
   ]
  },
  {
   "cell_type": "markdown",
   "id": "f578a896",
   "metadata": {},
   "source": [
    "_The Anonymous Functions_: Menggunakan _keyword_ `lambda`\n",
    "\n",
    "- Lambda dapat mengambil berapapun argumen tetapi hanya mengembalikan satu nilai dalam bentuk expression. Lambda tidak boleh berisi _commands_ atau _multiple expressions_.\n",
    "\n",
    "- _Anonymous function_ tidak bisa dipanggil langsung melalui `print` karena lambda memerlukan _expression_.\n",
    "\n",
    "- _Lambda functions_ memiliki _namespace local_ sendiri dan tidak dapat mengakses variabel selain yang ada di daftar parameternya dan yang ada di _namespace global_.\n",
    "\n",
    "Sintaks:\n",
    "\n",
    "```lambda [arg1 [,arg2,.....argn]]:expression```"
   ]
  },
  {
   "cell_type": "code",
   "execution_count": 13,
   "id": "5ae9a8ff",
   "metadata": {},
   "outputs": [
    {
     "name": "stdout",
     "output_type": "stream",
     "text": [
      "Value of total: 30\n",
      "Value of total: 30\n"
     ]
    }
   ],
   "source": [
    "sum_anon = lambda arg1, arg2: arg1 + arg2;\n",
    "\n",
    "# Fungsi di atas ekivalen dengan yang di bawah ini\n",
    "\n",
    "def sum_func(arg1, arg2):\n",
    "    return arg1 + arg2\n",
    "\n",
    "print(\"Value of total:\", sum_anon(10, 20))\n",
    "print(\"Value of total:\", sum_func(10, 20))"
   ]
  },
  {
   "cell_type": "markdown",
   "id": "c9748323",
   "metadata": {},
   "source": [
    "_Scope of Variables_: _Global vs. Local variables_\n",
    "\n",
    "Variabel lokal hanya dapat diakses di dalam fungsi yang dideklarasikan, sedangkan variabel global dapat diakses di seluruh badan program oleh semua fungsi."
   ]
  },
  {
   "cell_type": "code",
   "execution_count": 14,
   "id": "e2d8e80b",
   "metadata": {},
   "outputs": [
    {
     "name": "stdout",
     "output_type": "stream",
     "text": [
      "Inside the function local total: 30\n",
      "Outside the function global total: 0\n"
     ]
    }
   ],
   "source": [
    "total = 0\n",
    "\n",
    "def sum(arg1, arg2):\n",
    "   total = arg1 + arg2\n",
    "   print(\"Inside the function local total:\", total)\n",
    "   return total\n",
    "\n",
    "sum(10, 20)\n",
    "print(\"Outside the function global total:\", total)"
   ]
  },
  {
   "cell_type": "code",
   "execution_count": 15,
   "id": "9d135d35",
   "metadata": {},
   "outputs": [
    {
     "name": "stdout",
     "output_type": "stream",
     "text": [
      "Count of animals: 50\n",
      "Doubled numbers of cats: 40\n",
      "All animals: 110\n",
      "Number of cats: 20\n",
      "Count of animals: 50\n"
     ]
    }
   ],
   "source": [
    "num_cats = 20\n",
    "\n",
    "def count_animals():\n",
    "    num_dogs = 30\n",
    "    return num_cats + num_dogs\n",
    "\n",
    "def double_cats():\n",
    "    return 2 * num_cats\n",
    "\n",
    "print('Count of animals:', count_animals())\n",
    "print('Doubled numbers of cats:', double_cats())\n",
    "\n",
    "def count_all_animals():\n",
    "    num_dogs = 10\n",
    "    num_cats = 100\n",
    "    return num_dogs + num_cats\n",
    "\n",
    "print('All animals:', count_all_animals())\n",
    "print('Number of cats:', num_cats)\n",
    "\n",
    "# Panggil lagi\n",
    "print('Count of animals:', count_animals())"
   ]
  },
  {
   "cell_type": "markdown",
   "id": "f2026acd",
   "metadata": {},
   "source": [
    "***\n",
    "\n",
    "## Modules\n",
    "\n",
    "Pemrograman modular memecah tugas pemrograman menjadi sub-tugas atau modul yang terpidah, lebih kecil, dan lebih mudah dikelola. Modul diakses dengan `import` _statement_. Membuat modul yang ditulis dengan Python dapat dilakukan dengan membuat _file_ tersendiri yang diberi ekstensi `.py`.\n",
    "\n",
    "> Lihat berkas [students.py](./students.py)\n",
    "\n",
    "_Import file_:"
   ]
  },
  {
   "cell_type": "code",
   "execution_count": 16,
   "id": "2a83ca4e",
   "metadata": {},
   "outputs": [
    {
     "name": "stdout",
     "output_type": "stream",
     "text": [
      "bootcamp name: hacktiv8\n",
      "list names: ['john', 'star', 'lucifer', 'python']\n",
      "list of students with id:\n",
      "{1: 'john', 2: 'star', 3: 'lucifer', 4: 'python'}\n"
     ]
    }
   ],
   "source": [
    "import students"
   ]
  },
  {
   "cell_type": "markdown",
   "id": "af7fc4ff",
   "metadata": {},
   "source": [
    "Memanggil variabel dari modul:"
   ]
  },
  {
   "cell_type": "code",
   "execution_count": 17,
   "id": "024dff69",
   "metadata": {},
   "outputs": [
    {
     "data": {
      "text/plain": [
       "{1: 'adit', 2: 'bagus', 3: 'daniel', 4: 'dezenia', 5: 'ilham'}"
      ]
     },
     "execution_count": 17,
     "metadata": {},
     "output_type": "execute_result"
    }
   ],
   "source": [
    "students.make_students([\"adit\", \"bagus\", \"daniel\", \"dezenia\", \"ilham\"])"
   ]
  },
  {
   "cell_type": "code",
   "execution_count": 18,
   "id": "c72bf13c",
   "metadata": {},
   "outputs": [
    {
     "name": "stdout",
     "output_type": "stream",
     "text": [
      "hacktiv8\n"
     ]
    }
   ],
   "source": [
    "print(students.bootcamp_name)"
   ]
  },
  {
   "cell_type": "code",
   "execution_count": 19,
   "id": "9f18e712",
   "metadata": {},
   "outputs": [
    {
     "ename": "NameError",
     "evalue": "name 'bootcamp_name' is not defined",
     "output_type": "error",
     "traceback": [
      "\u001b[1;31m---------------------------------------------------------------------------\u001b[0m",
      "\u001b[1;31mNameError\u001b[0m                                 Traceback (most recent call last)",
      "\u001b[1;32m<ipython-input-19-8c1e49c13251>\u001b[0m in \u001b[0;36m<module>\u001b[1;34m\u001b[0m\n\u001b[1;32m----> 1\u001b[1;33m \u001b[0mprint\u001b[0m\u001b[1;33m(\u001b[0m\u001b[0mbootcamp_name\u001b[0m\u001b[1;33m)\u001b[0m \u001b[1;31m# error\u001b[0m\u001b[1;33m\u001b[0m\u001b[1;33m\u001b[0m\u001b[0m\n\u001b[0m",
      "\u001b[1;31mNameError\u001b[0m: name 'bootcamp_name' is not defined"
     ]
    }
   ],
   "source": [
    "print(bootcamp_name) # error"
   ]
  },
  {
   "cell_type": "code",
   "execution_count": 20,
   "id": "616a9d04",
   "metadata": {},
   "outputs": [
    {
     "name": "stdout",
     "output_type": "stream",
     "text": [
      "hacktiv\n"
     ]
    }
   ],
   "source": [
    "bootcamp_name = \"hacktiv\"\n",
    "print(bootcamp_name)"
   ]
  },
  {
   "cell_type": "markdown",
   "id": "b6bc8c35",
   "metadata": {},
   "source": [
    "Import objek individu tertentu dari suatu modul:\n",
    "\n",
    "```from <module_name> import <name(s)>```\n",
    "\n",
    "Import semua objek dalam modul (kurang dianjurkan):\n",
    "\n",
    "```from <module_name> import *```\n",
    "\n",
    "Memberikan alias atau nama alternatif:\n",
    "\n",
    "```import <module_name> as <alias_name>```\n",
    "\n",
    "atau\n",
    "\n",
    "```from <module_name> import <name> as <alias_name>[, <name_2> as <alias_2> ...]```"
   ]
  },
  {
   "cell_type": "code",
   "execution_count": 21,
   "id": "993166f2",
   "metadata": {},
   "outputs": [],
   "source": [
    "from students import make_students, id_to_students\n",
    "from students import bootcamp_name as bootcamp"
   ]
  },
  {
   "cell_type": "code",
   "execution_count": 22,
   "id": "a5cc3c79",
   "metadata": {},
   "outputs": [
    {
     "name": "stdout",
     "output_type": "stream",
     "text": [
      "{1: 'john', 2: 'star', 3: 'lucifer', 4: 'python'}\n"
     ]
    }
   ],
   "source": [
    "list_names = [\"john\", \"star\", \"lucifer\", \"python\"]\n",
    "print(make_students(list_names))"
   ]
  },
  {
   "cell_type": "code",
   "execution_count": 23,
   "id": "f801de0b",
   "metadata": {},
   "outputs": [
    {
     "name": "stdout",
     "output_type": "stream",
     "text": [
      "{1: 'adit', 2: 'bagus', 3: 'daniel', 4: 'dezenia', 5: 'ilham'}\n"
     ]
    }
   ],
   "source": [
    "ms = make_students([\"adit\", \"bagus\", \"daniel\", \"dezenia\", \"ilham\"])\n",
    "print(ms)"
   ]
  },
  {
   "cell_type": "code",
   "execution_count": 24,
   "id": "0cd94401",
   "metadata": {},
   "outputs": [
    {
     "name": "stdout",
     "output_type": "stream",
     "text": [
      "{1: 'yusuf', 2: 'satya', 3: 'richard', 4: 'stefani', 5: 'timotius'}\n"
     ]
    }
   ],
   "source": [
    "print(students.id_to_students)"
   ]
  },
  {
   "cell_type": "code",
   "execution_count": 25,
   "id": "7d4699b0",
   "metadata": {},
   "outputs": [
    {
     "name": "stdout",
     "output_type": "stream",
     "text": [
      "hacktiv8\n"
     ]
    }
   ],
   "source": [
    "print(bootcamp)"
   ]
  },
  {
   "cell_type": "markdown",
   "id": "4158a58f",
   "metadata": {},
   "source": [
    "### Mengeksekusi Modul Sebagai _Script_\n",
    "\n",
    "Jalankan dengan skrip `python <module_filename>`\n",
    "\n",
    "Jika dari Jupyter Notebok tambahkan tanda seru di awal sebagai penanda sebuah _command_: `!python <nama_file>`"
   ]
  },
  {
   "cell_type": "code",
   "execution_count": 26,
   "id": "e48ccef1",
   "metadata": {},
   "outputs": [
    {
     "name": "stderr",
     "output_type": "stream",
     "text": [
      "usage: hello.py [-h] yourname\n",
      "hello.py: error: the following arguments are required: yourname\n"
     ]
    }
   ],
   "source": [
    "!python hello.py"
   ]
  },
  {
   "cell_type": "code",
   "execution_count": 27,
   "id": "3600bddb",
   "metadata": {},
   "outputs": [
    {
     "name": "stdout",
     "output_type": "stream",
     "text": [
      "usage: hello.py [-h] yourname\n",
      "\n",
      "A welcome drink (read: script) for you.\n",
      "\n",
      "positional arguments:\n",
      "  yourname    write your name wrapped in a double-quotes\n",
      "\n",
      "optional arguments:\n",
      "  -h, --help  show this help message and exit\n"
     ]
    }
   ],
   "source": [
    "!python hello.py --help"
   ]
  },
  {
   "cell_type": "code",
   "execution_count": 28,
   "id": "20281f21",
   "metadata": {},
   "outputs": [
    {
     "name": "stdout",
     "output_type": "stream",
     "text": [
      "Hello, Michael Jackson! Congratulations for starting your journey in data science.\n",
      "My name is Syahrul Bahar Hamdani, but just call me Dani for short.\n",
      "Together for the next few weeks, we will learn a lot.\n",
      "From learning how to code with Python, to using Python to solve data science problem.\n",
      "Let's get started!!\n"
     ]
    }
   ],
   "source": [
    "!python hello.py \"Michael Jackson\""
   ]
  },
  {
   "cell_type": "code",
   "execution_count": 29,
   "id": "355cf253",
   "metadata": {},
   "outputs": [
    {
     "name": "stdout",
     "output_type": "stream",
     "text": [
      "bootcamp name: hacktiv8\n",
      "list names: ['john', 'star', 'lucifer', 'python']\n",
      "list of students with id:\n",
      "{1: 'john', 2: 'star', 3: 'lucifer', 4: 'python'}\n"
     ]
    }
   ],
   "source": [
    "!python students.py"
   ]
  },
  {
   "cell_type": "markdown",
   "id": "ffcaf96e",
   "metadata": {},
   "source": [
    "***\n",
    "\n",
    "## Packages\n",
    "\n",
    "Packages memungkinkan penataan hierarki nama modul menggunakan notasi titik. Dengan cara yang sama seperti modul membantu menghindari tabrakan antara nama variabel global, packages membantu menghindari tabrakan antara nama modul.\n",
    "\n",
    "> Lihat berkas pada [hacktivate/students.py](./hacktivate/students.py)\n",
    "\n",
    "_Import file_:"
   ]
  },
  {
   "cell_type": "code",
   "execution_count": 30,
   "id": "945c8849",
   "metadata": {},
   "outputs": [],
   "source": [
    "from hacktivate import students as hs\n",
    "# atau\n",
    "from hacktivate.students import make_students as ms\n",
    "\n",
    "# diberikan alias agar membedakan objek dari import module sebelumnya"
   ]
  },
  {
   "cell_type": "code",
   "execution_count": 31,
   "id": "a2b983b8",
   "metadata": {},
   "outputs": [
    {
     "name": "stdout",
     "output_type": "stream",
     "text": [
      "{1: 'adit', 2: 'bagus', 3: 'daniel', 4: 'dezenia', 5: 'ilham'}\n",
      "{1: 'adit', 2: 'bagus', 3: 'daniel', 4: 'dezenia', 5: 'ilham'}\n"
     ]
    }
   ],
   "source": [
    "print(hs.make_students([\"adit\", \"bagus\", \"daniel\", \"dezenia\", \"ilham\"]))\n",
    "print(ms([\"adit\", \"bagus\", \"daniel\", \"dezenia\", \"ilham\"]))\n"
   ]
  },
  {
   "cell_type": "markdown",
   "id": "43908274",
   "metadata": {},
   "source": [
    "### PIP\n",
    "\n",
    "`pip` adalah alat yang memungkinkan untuk menginstal dan mengelola _library_ dan dependensi tambahan yang tidak didistribusikan sebagai bagian dari _library_ standar."
   ]
  },
  {
   "cell_type": "code",
   "execution_count": 32,
   "id": "14939730",
   "metadata": {},
   "outputs": [
    {
     "name": "stdout",
     "output_type": "stream",
     "text": [
      "pip 21.0.1 from C:\\ProgramData\\Miniconda3\\lib\\site-packages\\pip (python 3.9)\n",
      "\n"
     ]
    }
   ],
   "source": [
    "!pip --version"
   ]
  },
  {
   "cell_type": "markdown",
   "id": "00898ddb",
   "metadata": {},
   "source": [
    "_**Basic Package Installation**_\n",
    "\n",
    "Jalankan dengan perintah `pip install <package_name>`\n",
    "\n",
    "_Uninstall_: `pip uninstall <package_name>`"
   ]
  },
  {
   "cell_type": "code",
   "execution_count": null,
   "id": "01aeadef",
   "metadata": {},
   "outputs": [],
   "source": []
  }
 ],
 "metadata": {
  "interpreter": {
   "hash": "ecf5722fdaf1897a315d257d89d94520bfcaa453217d5becf09b39e73618b0de"
  },
  "kernelspec": {
   "display_name": "Python 3",
   "language": "python",
   "name": "python3"
  },
  "language_info": {
   "codemirror_mode": {
    "name": "ipython",
    "version": 3
   },
   "file_extension": ".py",
   "mimetype": "text/x-python",
   "name": "python",
   "nbconvert_exporter": "python",
   "pygments_lexer": "ipython3",
   "version": "3.9.4"
  },
  "toc": {
   "base_numbering": 1,
   "nav_menu": {},
   "number_sections": false,
   "sideBar": true,
   "skip_h1_title": true,
   "title_cell": "Table of Contents",
   "title_sidebar": "Contents",
   "toc_cell": false,
   "toc_position": {},
   "toc_section_display": true,
   "toc_window_display": true
  }
 },
 "nbformat": 4,
 "nbformat_minor": 5
}
