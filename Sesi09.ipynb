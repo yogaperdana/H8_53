{
 "cells": [
  {
   "cell_type": "markdown",
   "metadata": {},
   "source": [
    "# Descriptive Statistics\n",
    "\n",
    "**Introduction to Python for Data Science** \\\n",
    "Course with Hacktiv8\n",
    "\n",
    "***\n",
    "\n",
    "**Sesi 9**\n",
    "\n",
    "Minggu, 13 Juni 2021 • 09:00 - 12:00 WIB\n",
    "\n",
    "- Mean\n",
    "- Median\n",
    "- Mode\n",
    "- Variance\n",
    "- Standard Deviation\n",
    "- Skewness\n",
    "- Percentiles\n",
    "- Ranges\n",
    "\n",
    "Selasa, 15 Juni 2021 • 19:00 - 22:00 WIB\n",
    "\n",
    "- Korelasi\n",
    "\n",
    "***"
   ]
  },
  {
   "cell_type": "code",
   "execution_count": 1,
   "metadata": {},
   "outputs": [],
   "source": [
    "import math\n",
    "import statistics\n",
    "import scipy.stats\n",
    "import numpy as np\n",
    "import pandas as pd"
   ]
  },
  {
   "cell_type": "markdown",
   "metadata": {},
   "source": [
    "Membuat _list_, _numpy array_, dan _pandas series_ berisi beberapa data numerik:"
   ]
  },
  {
   "cell_type": "code",
   "execution_count": 2,
   "metadata": {},
   "outputs": [
    {
     "name": "stdout",
     "output_type": "stream",
     "text": [
      "[8.0, 1, 2.5, 4, 28.0]\n",
      "[8.0, 1, 2.5, nan, 4, 28.0]\n",
      "\n",
      "[ 8.   1.   2.5  4.  28. ]\n",
      "[ 8.   1.   2.5  nan  4.  28. ]\n",
      "\n",
      "0     8.0\n",
      "1     1.0\n",
      "2     2.5\n",
      "3     4.0\n",
      "4    28.0\n",
      "dtype: float64\n",
      "\n",
      "0     8.0\n",
      "1     1.0\n",
      "2     2.5\n",
      "3     NaN\n",
      "4     4.0\n",
      "5    28.0\n",
      "dtype: float64\n"
     ]
    }
   ],
   "source": [
    " x = [8.0, 1, 2.5, 4, 28.0]\n",
    "x_with_nan = [8.0, 1, 2.5, math.nan, 4, 28.0]\n",
    "\n",
    "y = np.array(x)\n",
    "y_with_nan = np.array(x_with_nan)\n",
    "\n",
    "z = pd.Series(x)\n",
    "z_with_nan = pd.Series(x_with_nan)\n",
    "\n",
    "print(x)\n",
    "print(x_with_nan, end='\\n\\n')\n",
    "\n",
    "print(y)\n",
    "print(y_with_nan, end='\\n\\n')\n",
    "\n",
    "print(z, end='\\n\\n')\n",
    "print(z_with_nan)"
   ]
  },
  {
   "cell_type": "markdown",
   "metadata": {},
   "source": [
    "## Mean (Rata-Rata)\n",
    "\n",
    "### Sample Mean/Average\n",
    "\n",
    "Rata-rata aritmatika dari semua item dalam kumpulan sata"
   ]
  },
  {
   "cell_type": "code",
   "execution_count": 3,
   "metadata": {},
   "outputs": [
    {
     "name": "stdout",
     "output_type": "stream",
     "text": [
      "Native mean: 8.7\n",
      "Statistics mean: 8.7\n",
      "NumPy mean: 8.7\n",
      "NumPy array mean: 8.7\n",
      "Pandas mean: 8.7\n"
     ]
    }
   ],
   "source": [
    "native_mean = sum(x) / len(x)\n",
    "stats_mean = statistics.mean(x)\n",
    "numpy_mean = np.mean(y)\n",
    "np_array_mean = y.mean()\n",
    "pandas_mean = z.mean()\n",
    "\n",
    "print('Native mean:', native_mean)\n",
    "print('Statistics mean:', stats_mean)\n",
    "print('NumPy mean:', numpy_mean)\n",
    "print('NumPy array mean:', np_array_mean)\n",
    "print('Pandas mean:', pandas_mean)"
   ]
  },
  {
   "cell_type": "markdown",
   "metadata": {},
   "source": [
    "Mean with NaN value:"
   ]
  },
  {
   "cell_type": "code",
   "execution_count": 4,
   "metadata": {},
   "outputs": [
    {
     "name": "stdout",
     "output_type": "stream",
     "text": [
      "Native mean with NaN: nan\n",
      "Statistics mean with NaN: nan\n",
      "NumPy mean with NaN (default): nan\n",
      "NumPy mean with NaN (ignored): 8.7\n",
      "Pandas mean with NaN (default): 8.7\n",
      "Pandas mean with NaN (not ignored): nan\n"
     ]
    }
   ],
   "source": [
    "print('Native mean with NaN:', sum(x_with_nan) / len(x_with_nan))\n",
    "print('Statistics mean with NaN:', statistics.mean(x_with_nan))\n",
    "print('NumPy mean with NaN (default):', np.mean(y_with_nan))\n",
    "print('NumPy mean with NaN (ignored):', np.nanmean(y_with_nan))\n",
    "print('Pandas mean with NaN (default):', z_with_nan.mean())\n",
    "print('Pandas mean with NaN (not ignored):', z_with_nan.mean(skipna=False))"
   ]
  },
  {
   "cell_type": "markdown",
   "metadata": {},
   "source": [
    "### Weighted Mean\n",
    "\n",
    "Untuk kumpulan data yang berisi item yang muncul dengan frekuensi relatif tertentu"
   ]
  },
  {
   "cell_type": "code",
   "execution_count": 5,
   "metadata": {},
   "outputs": [
    {
     "name": "stdout",
     "output_type": "stream",
     "text": [
      "Native weighted mean (range method): 6.95\n",
      "Native weighted mean (zip method): 6.95\n",
      "NumPy weighted mean: 6.95\n",
      "NumPy array weighted mean: 6.95\n"
     ]
    }
   ],
   "source": [
    "x_new = [8.0, 1, 2.5, 4, 28.0]\n",
    "weights = [0.1, 0.2, 0.3, 0.25, 0.15]\n",
    "\n",
    "wmean_range = sum(x_new[i] * weights[i] for i in range(len(x_new))) / sum(weights)\n",
    "\n",
    "wmean_zip = sum(x_item * w_item for (x_item, w_item) in zip(x_new, weights)) / sum(weights)\n",
    "\n",
    "wmean_np = np.average(x_new, weights=weights)\n",
    "\n",
    "x_new_arr = np.array(x_new)\n",
    "weights_arr = np.array(weights)\n",
    "wmean_np_arr = (x_new_arr * weights_arr).sum() / weights_arr.sum()\n",
    "\n",
    "print('Native weighted mean (range method):', wmean_range)\n",
    "print('Native weighted mean (zip method):', wmean_zip)\n",
    "print('NumPy weighted mean:', wmean_np)\n",
    "print('NumPy array weighted mean:', wmean_np)\n"
   ]
  },
  {
   "cell_type": "markdown",
   "metadata": {},
   "source": [
    "### Harmonic Mean\n",
    "\n",
    "Untuk _handling outliers_ yang besar"
   ]
  },
  {
   "cell_type": "code",
   "execution_count": 6,
   "metadata": {},
   "outputs": [
    {
     "name": "stdout",
     "output_type": "stream",
     "text": [
      "x: [8.0, 1, 2.5, 4, 28.0]\n",
      "Native harmonic mean 2.7613412228796843\n",
      "Statistics harmonic mean 2.7613412228796843\n",
      "SciPy harmonic mean 2.7613412228796843\n",
      "NumPy array harmonic mean 2.7613412228796843\n"
     ]
    }
   ],
   "source": [
    "print('x:', x)\n",
    "\n",
    "hmean_native = len(x) / sum(1 / item for item in x)\n",
    "hmean_stats = statistics.harmonic_mean(x)\n",
    "hmean_scipy = scipy.stats.hmean(x)\n",
    "hmean_np_arr = 1 / (1 / np.array(x)).mean()\n",
    "\n",
    "print('Native harmonic mean', hmean_native)\n",
    "print('Statistics harmonic mean', hmean_stats)\n",
    "print('SciPy harmonic mean', hmean_scipy)\n",
    "print('NumPy array harmonic mean', hmean_np_arr)"
   ]
  },
  {
   "cell_type": "markdown",
   "metadata": {},
   "source": [
    "### Geometric Mean\n",
    "\n",
    "Untuk membandingkan berbagai hal dengan properti yang sangat berbeda"
   ]
  },
  {
   "cell_type": "code",
   "execution_count": 7,
   "metadata": {},
   "outputs": [
    {
     "name": "stdout",
     "output_type": "stream",
     "text": [
      "x: [8.0, 1, 2.5, 4, 28.0]\n",
      "Native geometric mean:\t 4.677885674856041\n",
      "SciPy geometric mean:\t 4.67788567485604\n",
      "Stats geometric mean:\t 4.67788567485604\n"
     ]
    }
   ],
   "source": [
    "print('x:', x)\n",
    "\n",
    "gmean_native = 1\n",
    "for item in x:\n",
    "    gmean_native *= item\n",
    "gmean_native **= 1/len(x)\n",
    "print('Native geometric mean:\\t', gmean_native)\n",
    "\n",
    "gmean_scipy = scipy.stats.gmean(x)\n",
    "print('SciPy geometric mean:\\t', gmean_scipy)\n",
    "\n",
    "gmean_stats = statistics.geometric_mean(x)\n",
    "print('Stats geometric mean:\\t', gmean_stats)"
   ]
  },
  {
   "cell_type": "markdown",
   "metadata": {},
   "source": [
    "## Median\n",
    "\n",
    "Elemen tengah dari kumpulan data yang diurutkan"
   ]
  },
  {
   "cell_type": "code",
   "execution_count": 8,
   "metadata": {},
   "outputs": [
    {
     "name": "stdout",
     "output_type": "stream",
     "text": [
      "       x: [8.0, 1, 2.5, 4, 28.0]\n",
      "sorted x: [1, 2.5, 4, 8.0, 28.0]\n",
      "\n",
      "median (native): 4\n"
     ]
    }
   ],
   "source": [
    "def native_median(x):\n",
    "    n = len(x)\n",
    "    x_sorted = sorted(x)\n",
    "\n",
    "    print('       x:', x)\n",
    "    print('sorted x:', x_sorted, end='\\n\\n')\n",
    "\n",
    "    if n % 2:\n",
    "        median_ = x_sorted[round((n-1)/2)]\n",
    "    else:\n",
    "        index = round(n/2)\n",
    "        median_ = (x_sorted[index-1] + x_sorted[index]) / 2\n",
    "    return median_\n",
    "\n",
    "print('median (native):', native_median(x))"
   ]
  },
  {
   "cell_type": "code",
   "execution_count": 9,
   "metadata": {},
   "outputs": [
    {
     "name": "stdout",
     "output_type": "stream",
     "text": [
      "       x: [19, 3, 2, 2.0, 0.3, 5, 1, 6, 5, 1]\n",
      "sorted x: [0.3, 1, 1, 2, 2.0, 3, 5, 5, 6, 19]\n",
      "\n",
      "Native median: 2.5\n",
      "NumPy median: 2.5\n",
      "Statistics median: 2.5\n",
      "Statistics median (low): 2.0\n",
      "Statistics median (high): 3\n"
     ]
    }
   ],
   "source": [
    "xx = [19, 3, 2, 2.0, 0.3, 5, 1, 6, 5, 1]\n",
    "\n",
    "print('Native median:', native_median(xx))\n",
    "print('NumPy median:', np.median(xx))\n",
    "print('Statistics median:', statistics.median(xx))\n",
    "print('Statistics median (low):', statistics.median_low(xx))\n",
    "print('Statistics median (high):', statistics.median_high(xx))"
   ]
  },
  {
   "cell_type": "markdown",
   "metadata": {},
   "source": [
    "## Mode\n",
    "\n",
    "Nilai dalam kumpulan data yang paling sering muncul"
   ]
  },
  {
   "cell_type": "code",
   "execution_count": 10,
   "metadata": {},
   "outputs": [
    {
     "name": "stdout",
     "output_type": "stream",
     "text": [
      "Native mode (u): 2\n",
      "Native mode (v): 15\n"
     ]
    }
   ],
   "source": [
    "u = [2, 3, 2, 8, 12]\n",
    "v = [12, 15, 12, 15, 21, 15, 12]\n",
    "\n",
    "mode_u = max((u.count(item), item) for item in set(u))[1]\n",
    "mode_v = max((v.count(item), item) for item in set(v))[1]\n",
    "\n",
    "print('Native mode (u):', mode_u)\n",
    "print('Native mode (v):', mode_v)"
   ]
  },
  {
   "cell_type": "code",
   "execution_count": 11,
   "metadata": {},
   "outputs": [
    {
     "name": "stdout",
     "output_type": "stream",
     "text": [
      "Statistics mode (v): 12\n",
      "\n",
      "SciPy mode (v): ModeResult(mode=array([12]), count=array([3]))\n",
      "\n",
      "Pandas series mode (v):\n"
     ]
    },
    {
     "data": {
      "text/plain": [
       "0    12\n",
       "1    15\n",
       "dtype: int64"
      ]
     },
     "execution_count": 11,
     "metadata": {},
     "output_type": "execute_result"
    }
   ],
   "source": [
    "u_series = pd.Series(u)\n",
    "v_series = pd.Series(v)\n",
    "\n",
    "mode_stats_v = statistics.mode(v)\n",
    "mode_scipy_v = scipy.stats.mode(v)\n",
    "mode_series_v = v_series.mode()\n",
    "\n",
    "print('Statistics mode (v):', mode_stats_v, end='\\n\\n')\n",
    "print('SciPy mode (v):', mode_scipy_v, end='\\n\\n')\n",
    "print('Pandas series mode (v):')\n",
    "mode_series_v"
   ]
  },
  {
   "cell_type": "markdown",
   "metadata": {},
   "source": [
    "## Variance\n",
    "\n",
    "Mengukur penyebaran data. Menunjukkan secara numerik seberapa jauh titik data dari rata-rata."
   ]
  },
  {
   "cell_type": "code",
   "execution_count": 12,
   "metadata": {},
   "outputs": [
    {
     "name": "stdout",
     "output_type": "stream",
     "text": [
      "x: [8.0, 1, 2.5, 4, 28.0]\n",
      "Native variance: 123.19999999999999\n"
     ]
    }
   ],
   "source": [
    "print('x:', x)\n",
    "\n",
    "mean_x = sum(x) / len(x)\n",
    "var_ = sum((item - mean_x) ** 2 for item in x) / (len(x) - 1)\n",
    "\n",
    "print('Native variance:', var_)"
   ]
  },
  {
   "cell_type": "code",
   "execution_count": 13,
   "metadata": {},
   "outputs": [
    {
     "name": "stdout",
     "output_type": "stream",
     "text": [
      "Statistics variance: 123.2\n",
      "NumPy variance: 123.19999999999999\n",
      "Pandas series variance: 123.19999999999999\n",
      "SciPy variance: 123.19999999999999\n"
     ]
    }
   ],
   "source": [
    "var_stats = statistics.variance(x)\n",
    "var_numpy = np.var(y, ddof=1)\n",
    "var_series = z.var(ddof=1)\n",
    "var_scipy = scipy.stats.tvar(x)\n",
    "\n",
    "print('Statistics variance:', var_stats)\n",
    "print('NumPy variance:', var_numpy)\n",
    "print('Pandas series variance:', var_series)\n",
    "print('SciPy variance:', var_scipy)"
   ]
  },
  {
   "cell_type": "markdown",
   "metadata": {},
   "source": [
    "## Standard Deviation\n",
    "\n",
    "Pengukuran jarak rata-rata antara setiap besaran dan rata-rata.\n",
    "\n",
    "Standar deviasi yang rendah menunjukkan bahwa titik data cenderung mendekati rata-rata kumpulan data, sedangkan Standar deviasi yang tinggi menunjukkan bahwa titik data tersebar di nilai yang lebih luas."
   ]
  },
  {
   "cell_type": "code",
   "execution_count": 14,
   "metadata": {},
   "outputs": [
    {
     "name": "stdout",
     "output_type": "stream",
     "text": [
      "x: [8.0, 1, 2.5, 4, 28.0]\n",
      "Native standard deviation:        11.099549540409285\n",
      "Statistics standard deviation:    11.099549540409287\n",
      "NumPy standard deviation:         11.099549540409285\n",
      "Pandas series standard deviation: 11.099549540409285\n"
     ]
    }
   ],
   "source": [
    "print('x:', x)\n",
    "\n",
    "std_ = var_ ** .5\n",
    "std_stats = statistics.stdev(x)\n",
    "std_numpy = np.std(y, ddof=1)\n",
    "std_series = z.std(ddof=1)\n",
    "\n",
    "print('Native standard deviation:       ', std_)\n",
    "print('Statistics standard deviation:   ', std_stats)\n",
    "print('NumPy standard deviation:        ', std_numpy)\n",
    "print('Pandas series standard deviation:', std_series)"
   ]
  },
  {
   "cell_type": "markdown",
   "metadata": {},
   "source": [
    "## Skewness\n",
    "\n",
    "Ukuran asimetri distribusi probabilitas dari _real-valued random variable_ tentang _mean_-nya. Nilai kemiringan bisa positif atau negatif, atau tidak terdefinisi. Jika _skewness_ mendekati 0 (misalnya antara −0.5 dan 0.5), maka dataset dianggap cukup simetris."
   ]
  },
  {
   "cell_type": "code",
   "execution_count": 15,
   "metadata": {},
   "outputs": [
    {
     "name": "stdout",
     "output_type": "stream",
     "text": [
      "x: [8.0, 1, 2.5, 4, 28.0]\n",
      "SciPy skewness: 1.9470432273905927\n",
      "Pandas series skewness: 1.9470432273905924\n"
     ]
    }
   ],
   "source": [
    "print('x:', x)\n",
    "\n",
    "skew_scipy = scipy.stats.skew(x, bias=False)\n",
    "skew_series = z.skew()\n",
    "\n",
    "print('SciPy skewness:', skew_scipy)\n",
    "print('Pandas series skewness:', skew_series)"
   ]
  },
  {
   "cell_type": "markdown",
   "metadata": {},
   "source": [
    "### Kurtosis\n",
    "\n",
    "Ukuran apakah data bersifat heavy-tailed (banyak outlier) atau light-tailed (kurang outlier) relatif terhadap distribusi normal.\n",
    "\n",
    "Perbedaan utama antara skewness dan kurtosis adalah skewness mengacu pada tingkat simetri, sedangkan kurtosis mengacu pada tingkat keberadaan pencilan dalam distribusi."
   ]
  },
  {
   "cell_type": "markdown",
   "metadata": {},
   "source": [
    "## Percentiles\n",
    "\n",
    "Cara untuk merepresentasikan posisi suatu nilai dalam kumpulan data. Untuk menghitung persentil, nilai dalam kumpulan data harus selalu dalam urutan _ascending_/menaik.\n",
    "\n",
    "### Quartiles\n",
    "\n",
    "Dalam statistik dan probabilitas, kuartil adalah nilai yang membagi data kita menjadi beberapa _quarters_ jika data diurutkan dalam urutan _ascending_/menaik.\n",
    "\n",
    "Ada tiga nilai kuartil:\n",
    "* Q1: Sampel persentil ke-25. Kuartil pertama membagi sekitar 25% item terkecil dari kumpulan data lainnya.\n",
    "* Q2: Sampel persentil ke-50 atau **median**. Kira-kira 25% item terletak di antara kuartil pertama dan kedua dan 25% lainnya antara kuartil kedua dan ketiga.\n",
    "* Q3: Sampel persentil ke-75. Kuartil ketiga membagi sekitar 25% item terbesar dari sisa kumpulan data.\n",
    "\n",
    "Untuk membagi data menjadi beberapa interval, dapat menggunakan `statistics.quantiles()`:\n",
    "\n",
    "Parameter: `statistics.quantiles(data, n=4, method='exclusive')`\n",
    "\n",
    "* `n` = Jumlah persentil probabilitas sama yang dihasilkan (_default_: `4`)\n",
    "* `method` = Cara menghitung dengan menyertakan data yang termasuk _outliers_ (_inclusive_) atau tidak menyertakannya (_exclusive_) (_default_: `exclusive`)"
   ]
  },
  {
   "cell_type": "code",
   "execution_count": 16,
   "metadata": {},
   "outputs": [
    {
     "name": "stdout",
     "output_type": "stream",
     "text": [
      "[-0.5, 8.0, 23.4]\n",
      "[0.1, 8.0, 21.0]\n"
     ]
    }
   ],
   "source": [
    "x3 = [-5.0, -1.1, 0.1, 2.0, 8.0, 12.8, 21.0, 25.8, 41.0]\n",
    "\n",
    "print(statistics.quantiles(x3))\n",
    "print(statistics.quantiles(x3, method=\"inclusive\"))"
   ]
  },
  {
   "cell_type": "markdown",
   "metadata": {},
   "source": [
    "`np.percentile()` dapat pula digunakan untuk menentukan persentil sampel apa pun dalam kumpulan data:"
   ]
  },
  {
   "cell_type": "code",
   "execution_count": 17,
   "metadata": {},
   "outputs": [
    {
     "name": "stdout",
     "output_type": "stream",
     "text": [
      "8.0\n",
      "[-5.   0.1  8.  21.  41. ]\n"
     ]
    }
   ],
   "source": [
    "print(np.percentile(x3, 50))\n",
    "print(np.percentile(x3, [0, 25, 50, 75, 100]))"
   ]
  },
  {
   "cell_type": "markdown",
   "metadata": {},
   "source": [
    "Jika ingin mengabaikan nilai `nan`, gunakan `np.nanpercentile()` sebagai gantinya:"
   ]
  },
  {
   "cell_type": "code",
   "execution_count": 18,
   "metadata": {},
   "outputs": [
    {
     "name": "stdout",
     "output_type": "stream",
     "text": [
      "[-5.  -1.1  nan  0.1  2.   8.  12.8 21.  25.8 41. ]\n",
      "[ 0.1  8.  21. ]\n"
     ]
    }
   ],
   "source": [
    "x3_with_nan = np.insert(x3, 2, np.nan)\n",
    "print(x3_with_nan)\n",
    "print(np.nanpercentile(x3_with_nan, [25, 50, 75]))"
   ]
  },
  {
   "cell_type": "markdown",
   "metadata": {},
   "source": [
    "NumPy juga menawarkan fungsionalitas yang sangat mirip di `quantile()` dan `nanquantile()`. Jika ingin menggunakannya, harus memberikan nilai-nilai kuantitatif sebagai angka antara 0 dan 1, bukan persentil:"
   ]
  },
  {
   "cell_type": "code",
   "execution_count": 19,
   "metadata": {},
   "outputs": [
    {
     "name": "stdout",
     "output_type": "stream",
     "text": [
      "33.0\n",
      "34.919999999999995\n",
      "[ 0.1  8.  21. ]\n",
      "[ 0.1  8.  21. ]\n"
     ]
    }
   ],
   "source": [
    "print(np.quantile(33, 0.05))\n",
    "print(np.quantile(x3, 0.95))\n",
    "print(np.quantile(x3, [0.25, 0.5, 0.75]))\n",
    "print(np.nanquantile(x3_with_nan, [0.25, 0.5, 0.75]))"
   ]
  },
  {
   "cell_type": "markdown",
   "metadata": {},
   "source": [
    "Objek Pandas Series juga memiliki method `.quantile()`:"
   ]
  },
  {
   "cell_type": "code",
   "execution_count": 20,
   "metadata": {},
   "outputs": [
    {
     "name": "stdout",
     "output_type": "stream",
     "text": [
      "-3.44\n",
      "\n",
      "34.919999999999995\n",
      "\n",
      "0.25     0.1\n",
      "0.50     8.0\n",
      "0.75    21.0\n",
      "dtype: float64\n",
      "\n",
      "0.25     0.1\n",
      "0.50     8.0\n",
      "0.75    21.0\n",
      "dtype: float64\n"
     ]
    }
   ],
   "source": [
    "z, z_with_nan = pd.Series(x3), pd.Series(x3_with_nan)\n",
    "\n",
    "print(z.quantile(0.05), end='\\n\\n')\n",
    "print(z.quantile(0.95), end='\\n\\n')\n",
    "print(z.quantile([0.25, 0.5, 0.75]), end='\\n\\n')\n",
    "print(z_with_nan.quantile([0.25, 0.5, 0.75]))"
   ]
  },
  {
   "cell_type": "markdown",
   "metadata": {},
   "source": [
    "## Ranges (Rentang)\n",
    "\n",
    "Perbedaan antara elemen maksimum dan minimum dalam kumpulan data"
   ]
  },
  {
   "cell_type": "code",
   "execution_count": 21,
   "metadata": {},
   "outputs": [
    {
     "name": "stdout",
     "output_type": "stream",
     "text": [
      "[-5.0, -1.1, 0.1, 2.0, 8.0, 12.8, 21.0, 25.8, 41.0]\n",
      "46.0\n",
      "46.0\n"
     ]
    }
   ],
   "source": [
    "print(x3)\n",
    "print(np.ptp(x3))\n",
    "print(max(x3) - min(x3))"
   ]
  },
  {
   "cell_type": "markdown",
   "metadata": {},
   "source": [
    "### _Interquartile Range_\n",
    "\n",
    "Perbedaan antara kuartil pertama dan ketiga"
   ]
  },
  {
   "cell_type": "code",
   "execution_count": 22,
   "metadata": {},
   "outputs": [
    {
     "name": "stdout",
     "output_type": "stream",
     "text": [
      "[-5.0, -1.1, 0.1, 2.0, 8.0, 12.8, 21.0, 25.8, 41.0]\n",
      "20.9\n",
      "20.9\n"
     ]
    }
   ],
   "source": [
    "print(x3)\n",
    "print(np.percentile(x3, 75) - np.percentile(x3, 25))\n",
    "print(statistics.quantiles(x3, method=\"inclusive\")[-1] - statistics.quantiles(x3, method=\"inclusive\")[0])"
   ]
  },
  {
   "cell_type": "markdown",
   "metadata": {},
   "source": [
    "## _Summary of Descriptive Statistics_"
   ]
  },
  {
   "cell_type": "code",
   "execution_count": 23,
   "metadata": {},
   "outputs": [
    {
     "name": "stdout",
     "output_type": "stream",
     "text": [
      "DescribeResult(nobs=9, minmax=(-5.0, 41.0), mean=11.622222222222222, variance=228.75194444444446, skewness=0.763007130834308, kurtosis=-0.522454225944291)\n",
      "\n",
      "Number of observations: 9\n",
      "Min: -5.0\n",
      "Max: 41.0\n",
      "Mean: 11.622222222222222\n",
      "Variance: 228.75194444444446\n",
      "Skewness: 0.763007130834308\n",
      "Kurtosis: -0.522454225944291\n"
     ]
    }
   ],
   "source": [
    "result = scipy.stats.describe(x3)\n",
    "print(result)\n",
    "print('')\n",
    "print('Number of observations:', result.nobs)\n",
    "print('Min:', result.minmax[0])\n",
    "print('Max:', result.minmax[1])\n",
    "print('Mean:', result.mean)\n",
    "print('Variance:', result.variance)\n",
    "print('Skewness:', result.skewness)\n",
    "print('Kurtosis:', result.kurtosis)"
   ]
  },
  {
   "cell_type": "code",
   "execution_count": 24,
   "metadata": {},
   "outputs": [
    {
     "data": {
      "text/plain": [
       "count     9.000000\n",
       "mean     11.622222\n",
       "std      15.124548\n",
       "min      -5.000000\n",
       "25%       0.100000\n",
       "50%       8.000000\n",
       "75%      21.000000\n",
       "max      41.000000\n",
       "dtype: float64"
      ]
     },
     "execution_count": 24,
     "metadata": {},
     "output_type": "execute_result"
    }
   ],
   "source": [
    "pd_result = z.describe()\n",
    "pd_result"
   ]
  },
  {
   "cell_type": "markdown",
   "metadata": {},
   "source": [
    "---\n",
    "\n",
    "## Korelasi\n",
    "\n",
    "Memeriksa hubungan/relasi antara elemen yang sesuai dari dua variabel/fitur dalam kumpulan data.\n",
    "\n",
    "Pengukuran korelasi antara pasangan data:\n",
    "\n",
    "-   Korelasi positif\n",
    "\n",
    "    Hubungan antara 2 variabel dimana kenaikan satu variabel menyebabkan penambahan nilai pada variabel lainnya. Atau sebaliknya, semakin kecil nilai suatu variabel, nilai variabel lainnya juga akan ikut turun. Bisa dikatakan juga, korelasi ini merupakan hubungan yang searah.<sup>[[1]]</sup>\n",
    "\n",
    "\n",
    "-   Korelasi negatif\n",
    "\n",
    "    Hubungan antara 2 variabel dimana kenaikan satu variabel menyebakan penurunan nilai dari variabel lainnya. Begitu juga sebaliknya, semakin kecil nilai suatu variabel, semakin besar nilai variabel lainnya. Hubungan antara kedua variabel dalam kasus ini adalah berbalik arah.<sup>[[1]]</sup>\n",
    "\n",
    "-   Korelasi lemah (_weak_) atau tidak ada korelasi\n",
    "\n",
    "    Terjadi apabila kedua variabel tidak menunjukkan adanya hubungan linear.\n",
    "\n",
    "```\n",
    "Referensi: [1] https://yuvalianda.com/analisis-korelasi/\n",
    "```\n",
    "\n",
    "Dua statistik yang mengukur korelasi antar dataset adalah _covariance_ dan _correlation coefficient_."
   ]
  },
  {
   "cell_type": "code",
   "execution_count": 25,
   "metadata": {},
   "outputs": [
    {
     "name": "stdout",
     "output_type": "stream",
     "text": [
      "[-10, -9, -8, -7, -6, -5, -4, -3, -2, -1, 0, 1, 2, 3, 4, 5, 6, 7, 8, 9, 10]\n",
      "[0, 2, 2, 2, 2, 3, 3, 6, 7, 4, 7, 6, 6, 9, 4, 5, 5, 10, 11, 12, 14]\n"
     ]
    }
   ],
   "source": [
    "x = list(range(-10, 11))\n",
    "y = [0, 2, 2, 2, 2, 3, 3, 6, 7, 4, 7, 6, 6, 9, 4, 5, 5, 10, 11, 12, 14]\n",
    "\n",
    "print(x)\n",
    "print(y)\n",
    "\n",
    "x_arr, y_arr = np.array(x), np.array(y)\n",
    "x_ser, y_ser = pd.Series(x_arr), pd.Series(y_arr)"
   ]
  },
  {
   "cell_type": "markdown",
   "metadata": {},
   "source": [
    "### Kovarian (_Covariance_)\n",
    "\n",
    "Ukuran yang mengukur kekuatan dan arah hubungan antara sepasang variabel.\n",
    "\n",
    "- If the correlation is positive, then the covariance is positive, as well. A stronger relationship corresponds to a higher value of the covariance.\n",
    "- If the correlation is negative, then the covariance is negative, as well. A stronger relationship corresponds to a lower (or higher absolute) value of the covariance.\n",
    "- If the correlation is weak, then the covariance is close to zero.\n",
    "\n",
    "Cara menghitung kovarian dengan Python murni:"
   ]
  },
  {
   "cell_type": "code",
   "execution_count": 26,
   "metadata": {},
   "outputs": [
    {
     "name": "stdout",
     "output_type": "stream",
     "text": [
      "19.95\n"
     ]
    }
   ],
   "source": [
    "n = len(x)\n",
    "mean_x, mean_y = sum(x) / n, sum(y) / n\n",
    "cov_xy = (sum((x[k] - mean_x) * (y[k] - mean_y) for k in range(n)) / (n - 1))\n",
    "print(cov_xy)"
   ]
  },
  {
   "cell_type": "code",
   "execution_count": 27,
   "metadata": {},
   "outputs": [
    {
     "name": "stdout",
     "output_type": "stream",
     "text": [
      "[[38.5        19.95      ]\n",
      " [19.95       13.91428571]]\n"
     ]
    }
   ],
   "source": [
    "cov_np = np.cov(x_arr, y_arr)\n",
    "print(cov_np)"
   ]
  },
  {
   "cell_type": "code",
   "execution_count": 28,
   "metadata": {},
   "outputs": [
    {
     "name": "stdout",
     "output_type": "stream",
     "text": [
      "38.5\n",
      "13.914285714285711\n"
     ]
    }
   ],
   "source": [
    "var_x, var_y = np.var(x, ddof=1), np.var(y, ddof=1)\n",
    "print(var_x)\n",
    "print(var_y)"
   ]
  },
  {
   "cell_type": "code",
   "execution_count": null,
   "metadata": {},
   "outputs": [],
   "source": []
  },
  {
   "cell_type": "markdown",
   "metadata": {},
   "source": [
    "### _Correlation Coefficient_\n",
    "\n",
    "Disebut juga _Pearson product-moment correlation coefficient_. Dilambangkan dengan simbol 𝑟. Coefficient  adalah ukuran lain dari korelasi antar data. Kita dapat menganggapnya sebagai _standardized covariance_. Berikut beberapa infonya:\n",
    "\n",
    "- The value 𝑟 > 0 indicates positive correlation.\n",
    "- The value 𝑟 < 0 indicates negative correlation.\n",
    "- The value 𝑟 = 1 is the maximum possible value of 𝑟. It corresponds to a perfect positive linear relationship between variables.\n",
    "- The value 𝑟 = −1 is the minimum possible value of 𝑟. It corresponds to a perfect negative linear relationship between variables.\n",
    "- The value 𝑟 ≈ 0, or when 𝑟 is around zero, means that the correlation between variables is weak.\n",
    "\n",
    "\n"
   ]
  },
  {
   "cell_type": "code",
   "execution_count": 29,
   "metadata": {},
   "outputs": [
    {
     "name": "stdout",
     "output_type": "stream",
     "text": [
      "0.861950005631606\n"
     ]
    }
   ],
   "source": [
    "corr_xy = cov_np[0, 1] / (var_x**.5 * var_y**.5)\n",
    "print(corr_xy)"
   ]
  },
  {
   "cell_type": "code",
   "execution_count": 30,
   "metadata": {},
   "outputs": [
    {
     "name": "stdout",
     "output_type": "stream",
     "text": [
      "x: [-10, -9, -8, -7, -6, -5, -4, -3, -2, -1, 0, 1, 2, 3, 4, 5, 6, 7, 8, 9, 10]\n",
      "y: [0, 2, 2, 2, 2, 3, 3, 6, 7, 4, 7, 6, 6, 9, 4, 5, 5, 10, 11, 12, 14]\n"
     ]
    }
   ],
   "source": [
    "print(\"x:\", x)\n",
    "print(\"y:\", y)"
   ]
  },
  {
   "cell_type": "code",
   "execution_count": 31,
   "metadata": {},
   "outputs": [
    {
     "name": "stdout",
     "output_type": "stream",
     "text": [
      "z: [20, 19, 18, 17, 16, 15, 14, 13, 12, 11, 10, 9, 8, 7, 6, 5, 4, 3, 2, 1, 0] 21\n",
      "-1.0\n"
     ]
    }
   ],
   "source": [
    "z = list(range(20, -1, -1))\n",
    "print(\"z:\", z, len(z))\n",
    "cov_xz = np.cov(x, z)\n",
    "corr_xz = cov_xz[0, 1] / (cov_xz[0, 0]**.5 * cov_xz[1, 1]**.5)\n",
    "\n",
    "print(corr_xz)"
   ]
  },
  {
   "cell_type": "code",
   "execution_count": null,
   "metadata": {},
   "outputs": [],
   "source": []
  }
 ],
 "metadata": {
  "interpreter": {
   "hash": "ecf5722fdaf1897a315d257d89d94520bfcaa453217d5becf09b39e73618b0de"
  },
  "kernelspec": {
   "display_name": "Python 3",
   "language": "python",
   "name": "python3"
  },
  "language_info": {
   "codemirror_mode": {
    "name": "ipython",
    "version": 3
   },
   "file_extension": ".py",
   "mimetype": "text/x-python",
   "name": "python",
   "nbconvert_exporter": "python",
   "pygments_lexer": "ipython3",
   "version": "3.9.4"
  },
  "toc": {
   "base_numbering": 1,
   "nav_menu": {},
   "number_sections": false,
   "sideBar": true,
   "skip_h1_title": true,
   "title_cell": "Table of Contents",
   "title_sidebar": "Contents",
   "toc_cell": false,
   "toc_position": {},
   "toc_section_display": true,
   "toc_window_display": true
  }
 },
 "nbformat": 4,
 "nbformat_minor": 2
}
