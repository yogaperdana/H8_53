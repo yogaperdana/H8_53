{
 "cells": [
  {
   "cell_type": "markdown",
   "id": "a9ac518d",
   "metadata": {},
   "source": [
    "# Pengenalan Python\n",
    "\n",
    "**Introduction to Python for Data Science** \\\n",
    "Course with Hacktiv8\n",
    "\n",
    "***\n",
    "\n",
    "**Sesi 1**\n",
    "\n",
    "Selasa, 27 April 2021 • 19:00 - 22:00 WIB\n",
    "- Tipe Data\n",
    "- Variabel\n",
    "- Operator & Ekspresi\n",
    "- Manipulasi String\n",
    "\n",
    "Kamis, 29 April 2021 • 19:00 - 22:00 WIB\n",
    "- List\n",
    "- Tuple\n",
    "- Dictionary\n",
    "\n",
    "***"
   ]
  },
  {
   "cell_type": "markdown",
   "id": "da3aec4b",
   "metadata": {},
   "source": [
    "## Tipe Data"
   ]
  },
  {
   "cell_type": "markdown",
   "id": "92f87b5f",
   "metadata": {},
   "source": [
    "### Integer\n",
    "Bilangan bulat"
   ]
  },
  {
   "cell_type": "code",
   "execution_count": 1,
   "id": "b067527b",
   "metadata": {},
   "outputs": [
    {
     "name": "stdout",
     "output_type": "stream",
     "text": [
      "123123123123123123123123123123123123123123123124\n",
      "10\n",
      "<class 'int'>\n"
     ]
    }
   ],
   "source": [
    "print(123123123123123123123123123123123123123123123123 + 1)\n",
    "print(10)\n",
    "print(type(10))"
   ]
  },
  {
   "cell_type": "markdown",
   "id": "3d5c857e",
   "metadata": {},
   "source": [
    "### Float\n",
    "Desimal atau _**float**ing-point_ number"
   ]
  },
  {
   "cell_type": "code",
   "execution_count": 2,
   "id": "d9d9dbd0",
   "metadata": {},
   "outputs": [
    {
     "name": "stdout",
     "output_type": "stream",
     "text": [
      "4.2\n",
      "<class 'float'>\n",
      "4.0\n",
      "0.2\n",
      "4000000.0\n",
      "0.00042\n"
     ]
    }
   ],
   "source": [
    "print(4.2)\n",
    "print(type(4.2))\n",
    "print(4.)\n",
    "print(.2)\n",
    "print(.4e7)\n",
    "print(4.2e-4)"
   ]
  },
  {
   "cell_type": "markdown",
   "id": "7ece9bdc",
   "metadata": {},
   "source": [
    "### String\n",
    "Karakter/tulisan"
   ]
  },
  {
   "cell_type": "code",
   "execution_count": 3,
   "id": "43b8b0ed",
   "metadata": {},
   "outputs": [
    {
     "name": "stdout",
     "output_type": "stream",
     "text": [
      "Hacktiv8\n",
      "<class 'str'>\n",
      "\n",
      "This string contains a single quote (') character.\n",
      "This string contains a double quote (\") character.\n"
     ]
    }
   ],
   "source": [
    "print(\"Hacktiv8\")\n",
    "print(type(\"Hacktiv8\"))\n",
    "print('')\n",
    "print(\"This string contains a single quote (') character.\")\n",
    "print('This string contains a double quote (\") character.')"
   ]
  },
  {
   "cell_type": "code",
   "execution_count": 4,
   "id": "822d30a3",
   "metadata": {},
   "outputs": [
    {
     "name": "stdout",
     "output_type": "stream",
     "text": [
      "hacktiv8\n",
      "hacktiv8\n",
      "ha'tiv\n",
      "\"I am attending ha'tiv8\", He said\n",
      "\"I am attending ha'tiv8\", He said\n",
      "--\n",
      "I am ha'tiv.\n",
      "I am attending hacktiv8\n",
      "--\n"
     ]
    }
   ],
   "source": [
    "print(\"\"\"hacktiv8\"\"\")\n",
    "print('''hacktiv8''')\n",
    "print(\"ha'tiv\")\n",
    "print(\"\\\"I am attending ha'tiv8\\\", He said\")\n",
    "print('\"I am attending ha\\'tiv8\", He said')\n",
    "print(\"\"\"--\n",
    "I am ha'tiv.\n",
    "I am attending hacktiv8\n",
    "--\"\"\")"
   ]
  },
  {
   "cell_type": "markdown",
   "id": "254cbc52",
   "metadata": {},
   "source": [
    "### Boolean\n",
    "Variabel biner, kebenaran, `true` or `false`"
   ]
  },
  {
   "cell_type": "code",
   "execution_count": 5,
   "id": "d4db7989",
   "metadata": {},
   "outputs": [
    {
     "name": "stdout",
     "output_type": "stream",
     "text": [
      "<class 'bool'>\n",
      "<class 'bool'>\n"
     ]
    }
   ],
   "source": [
    "print(type(True))\n",
    "print(type(False))"
   ]
  },
  {
   "cell_type": "markdown",
   "id": "0bd1322f",
   "metadata": {},
   "source": [
    "### NoneType\n",
    "Objek tanpa nilai"
   ]
  },
  {
   "cell_type": "code",
   "execution_count": 6,
   "id": "6a526dc5",
   "metadata": {},
   "outputs": [
    {
     "name": "stdout",
     "output_type": "stream",
     "text": [
      "hacktiv8\n",
      "<class 'NoneType'>\n"
     ]
    }
   ],
   "source": [
    "type(print(\"hacktiv8\"))\n",
    "print(type(None))"
   ]
  },
  {
   "cell_type": "markdown",
   "id": "f5e31ad1",
   "metadata": {},
   "source": [
    "### Konversi"
   ]
  },
  {
   "cell_type": "code",
   "execution_count": 7,
   "id": "b9eaf61b",
   "metadata": {},
   "outputs": [
    {
     "data": {
      "text/plain": [
       "(10, 100.0, '19', True, True, True, True, True)"
      ]
     },
     "execution_count": 7,
     "metadata": {},
     "output_type": "execute_result"
    }
   ],
   "source": [
    "int(10.71), float(100), str(19), bool(1), bool(-10), bool(1000), bool(1.34), bool(\"hacktiv8\")"
   ]
  },
  {
   "cell_type": "markdown",
   "id": "5d5de43d",
   "metadata": {},
   "source": [
    "## Variabel"
   ]
  },
  {
   "cell_type": "code",
   "execution_count": 8,
   "id": "bdc58c0d",
   "metadata": {},
   "outputs": [
    {
     "name": "stdout",
     "output_type": "stream",
     "text": [
      "300\n"
     ]
    }
   ],
   "source": [
    "n = 300\n",
    "print(n)"
   ]
  },
  {
   "cell_type": "code",
   "execution_count": 9,
   "id": "358cb3ef",
   "metadata": {},
   "outputs": [
    {
     "name": "stdout",
     "output_type": "stream",
     "text": [
      "300 300 300\n"
     ]
    }
   ],
   "source": [
    "a = b = c = 300\n",
    "print(a, b, c)"
   ]
  },
  {
   "cell_type": "code",
   "execution_count": 10,
   "id": "90b8b522",
   "metadata": {},
   "outputs": [
    {
     "name": "stdout",
     "output_type": "stream",
     "text": [
      "23.5\n",
      "Now I'm a string\n"
     ]
    }
   ],
   "source": [
    "var = 23.5\n",
    "print(var)\n",
    "\n",
    "var = \"Now I'm a string\"\n",
    "print(var)"
   ]
  },
  {
   "cell_type": "code",
   "execution_count": 11,
   "id": "6f9c4965",
   "metadata": {},
   "outputs": [
    {
     "name": "stdout",
     "output_type": "stream",
     "text": [
      "Hacktiv8 54 True\n"
     ]
    }
   ],
   "source": [
    "name = \"Hacktiv8\"\n",
    "Age = 54\n",
    "has_laptops = True\n",
    "print(name, Age, has_laptops)"
   ]
  },
  {
   "cell_type": "code",
   "execution_count": 12,
   "id": "089e0801",
   "metadata": {},
   "outputs": [
    {
     "name": "stdout",
     "output_type": "stream",
     "text": [
      "1 2 3 4 5 6 7 8\n"
     ]
    }
   ],
   "source": [
    "age = 1\n",
    "Age = 2\n",
    "aGe = 3\n",
    "AGE = 4\n",
    "a_g_e = 5\n",
    "_age = 6\n",
    "age_ = 7\n",
    "_AGE_ = 8\n",
    "\n",
    "print(age, Age, aGe, AGE, a_g_e, _age, age_, _AGE_)"
   ]
  },
  {
   "cell_type": "markdown",
   "id": "91184072",
   "metadata": {},
   "source": [
    "## Operator dan Ekspresi"
   ]
  },
  {
   "cell_type": "markdown",
   "id": "889731ae",
   "metadata": {},
   "source": [
    "### Aritmetik"
   ]
  },
  {
   "cell_type": "code",
   "execution_count": 13,
   "id": "00cea300",
   "metadata": {},
   "outputs": [
    {
     "name": "stdout",
     "output_type": "stream",
     "text": [
      "7\n",
      "1\n",
      "12\n",
      "1.3333333333333333\n",
      "1\n",
      "64\n"
     ]
    }
   ],
   "source": [
    "a = 4\n",
    "b = 3\n",
    "\n",
    "print(a + b)\n",
    "print(a - b)\n",
    "print(a * b)\n",
    "print(a / b)\n",
    "print(a % b)\n",
    "print(a ** b)"
   ]
  },
  {
   "cell_type": "code",
   "execution_count": 14,
   "id": "36e296f1",
   "metadata": {},
   "outputs": [
    {
     "name": "stdout",
     "output_type": "stream",
     "text": [
      "2.0\n"
     ]
    }
   ],
   "source": [
    "print(10 / 5)"
   ]
  },
  {
   "cell_type": "markdown",
   "id": "89949356",
   "metadata": {},
   "source": [
    "### Perbandingan"
   ]
  },
  {
   "cell_type": "code",
   "execution_count": 15,
   "id": "8344f1be",
   "metadata": {},
   "outputs": [
    {
     "name": "stdout",
     "output_type": "stream",
     "text": [
      "False\n",
      "True\n",
      "True\n",
      "False\n"
     ]
    }
   ],
   "source": [
    "a = 10\n",
    "b = 20\n",
    "\n",
    "print(a == b)\n",
    "print(a != b)\n",
    "print(a <= b)\n",
    "print(a >= b)"
   ]
  },
  {
   "cell_type": "code",
   "execution_count": 16,
   "id": "fc69adc1",
   "metadata": {},
   "outputs": [
    {
     "name": "stdout",
     "output_type": "stream",
     "text": [
      "True\n",
      "True\n",
      "True\n"
     ]
    }
   ],
   "source": [
    "a = 30\n",
    "b = 30\n",
    "\n",
    "print(a == b)\n",
    "print(a <= b)\n",
    "print(a >= b)"
   ]
  },
  {
   "cell_type": "markdown",
   "id": "e5798744",
   "metadata": {},
   "source": [
    "## Manipulasi String"
   ]
  },
  {
   "cell_type": "code",
   "execution_count": 17,
   "id": "f65d08b6",
   "metadata": {},
   "outputs": [
    {
     "name": "stdout",
     "output_type": "stream",
     "text": [
      "foobar\n",
      "foobarbaz\n",
      "Hacktiv8 PTP\n"
     ]
    }
   ],
   "source": [
    "s = 'foo'\n",
    "t = 'bar'\n",
    "u = 'baz'\n",
    "\n",
    "print(s + t)\n",
    "print(s + t + u)\n",
    "print('Hacktiv8 ' + 'PTP')"
   ]
  },
  {
   "cell_type": "code",
   "execution_count": 18,
   "id": "64dc19ef",
   "metadata": {},
   "outputs": [
    {
     "name": "stdout",
     "output_type": "stream",
     "text": [
      "foo.foo.foo.foo.\n"
     ]
    }
   ],
   "source": [
    "s = 'foo.'\n",
    "print(s * 4)"
   ]
  },
  {
   "cell_type": "code",
   "execution_count": 19,
   "id": "a6d8741d",
   "metadata": {},
   "outputs": [
    {
     "name": "stdout",
     "output_type": "stream",
     "text": [
      "True\n",
      "False\n"
     ]
    }
   ],
   "source": [
    "s = 'foo'\n",
    "\n",
    "print(s in 'That food for us')\n",
    "print(s in 'That good for us')"
   ]
  },
  {
   "cell_type": "code",
   "execution_count": 20,
   "id": "a182e468",
   "metadata": {},
   "outputs": [
    {
     "name": "stdout",
     "output_type": "stream",
     "text": [
      "Hacktiv8\n",
      "hacktiv8\n",
      "hACKtiv8\n",
      "Hacktiv8\n",
      "HACKTIV8\n"
     ]
    }
   ],
   "source": [
    "# Case Conversion\n",
    "s = 'HackTIV8'\n",
    "\n",
    "# Capitalize\n",
    "print(s.capitalize())\n",
    "\n",
    "# Lower\n",
    "print(s.lower())\n",
    "\n",
    "# Swapcase\n",
    "print(s.swapcase())\n",
    "\n",
    "# Title\n",
    "print(s.title())\n",
    "\n",
    "# Uppercase\n",
    "print(s.upper())"
   ]
  },
  {
   "cell_type": "code",
   "execution_count": 21,
   "id": "bbc76202",
   "metadata": {},
   "outputs": [
    {
     "name": "stdout",
     "output_type": "stream",
     "text": [
      "Whether you think you can, or you think you can't--you're right.\n"
     ]
    }
   ],
   "source": [
    "print('Whether you think you can, or you think you can\\'t--you\\'re right.')"
   ]
  },
  {
   "cell_type": "markdown",
   "id": "d3463e5a",
   "metadata": {},
   "source": [
    "***"
   ]
  },
  {
   "cell_type": "markdown",
   "id": "d75bf82c",
   "metadata": {},
   "source": [
    "## List\n",
    "Struktur data berisi kumpulan objek"
   ]
  },
  {
   "cell_type": "code",
   "execution_count": 22,
   "id": "4e3311aa",
   "metadata": {},
   "outputs": [
    {
     "name": "stdout",
     "output_type": "stream",
     "text": [
      "['foo', 'bar', 'baz', 'qux']\n",
      "<class 'list'>\n"
     ]
    }
   ],
   "source": [
    "a = ['foo', 'bar', 'baz', 'qux']\n",
    "print(a)\n",
    "print(type(a))"
   ]
  },
  {
   "cell_type": "markdown",
   "id": "21b59b76",
   "metadata": {},
   "source": [
    "List adalah kumpulan dari object yang berurutan."
   ]
  },
  {
   "cell_type": "code",
   "execution_count": 23,
   "id": "6b97abfe",
   "metadata": {},
   "outputs": [
    {
     "data": {
      "text/plain": [
       "False"
      ]
     },
     "execution_count": 23,
     "metadata": {},
     "output_type": "execute_result"
    }
   ],
   "source": [
    "a = ['foo', 'bar', 'baz', 'qux']\n",
    "b = ['baz', 'qux', 'bar', 'foo']\n",
    "a == b"
   ]
  },
  {
   "cell_type": "code",
   "execution_count": 24,
   "id": "1d483be8",
   "metadata": {},
   "outputs": [
    {
     "data": {
      "text/plain": [
       "4"
      ]
     },
     "execution_count": 24,
     "metadata": {},
     "output_type": "execute_result"
    }
   ],
   "source": [
    "len(a)"
   ]
  },
  {
   "cell_type": "markdown",
   "id": "b47c3476",
   "metadata": {},
   "source": [
    "List dapat berisi bermacam-macam objek."
   ]
  },
  {
   "cell_type": "code",
   "execution_count": 25,
   "id": "3e677cb0",
   "metadata": {},
   "outputs": [
    {
     "name": "stdout",
     "output_type": "stream",
     "text": [
      "[21.42, 'foobar', 3, 4, 'bark', False, 3.14159]\n"
     ]
    }
   ],
   "source": [
    "a = [21.42, 'foobar', 3, 4, 'bark', False, 3.14159]\n",
    "print(a)"
   ]
  },
  {
   "cell_type": "markdown",
   "id": "c3deebf5",
   "metadata": {},
   "source": [
    "List dapat diakses menggunakan indeks dalam tanda kurung siku.\n",
    "Diawali dengan indeks 0."
   ]
  },
  {
   "cell_type": "code",
   "execution_count": 26,
   "id": "891fc15f",
   "metadata": {},
   "outputs": [
    {
     "name": "stdout",
     "output_type": "stream",
     "text": [
      "foo\n",
      "corge\n",
      "corge\n",
      "foo\n"
     ]
    }
   ],
   "source": [
    "a = ['foo', 'bar', 'baz', 'qux', 'quux', 'corge']\n",
    "\n",
    "print(a[0])\n",
    "print(a[5])\n",
    "print(a[-1])\n",
    "print(a[-6])"
   ]
  },
  {
   "cell_type": "markdown",
   "id": "35851180",
   "metadata": {},
   "source": [
    "**SLICING** - `string[<index awal>:<index akhir>]`"
   ]
  },
  {
   "cell_type": "code",
   "execution_count": 27,
   "id": "bf807a22",
   "metadata": {},
   "outputs": [
    {
     "name": "stdout",
     "output_type": "stream",
     "text": [
      "['baz', 'qux', 'quux']\n"
     ]
    }
   ],
   "source": [
    "print(a[2:5])"
   ]
  },
  {
   "cell_type": "markdown",
   "id": "88e7c6d6",
   "metadata": {},
   "source": [
    "Membandingkan dua _list_:"
   ]
  },
  {
   "cell_type": "code",
   "execution_count": 28,
   "id": "2387ff46",
   "metadata": {},
   "outputs": [
    {
     "name": "stdout",
     "output_type": "stream",
     "text": [
      "False\n"
     ]
    }
   ],
   "source": [
    "names = [\"Adit\", \"Bagus\", \"Daniel\", \"Dezenia\", \"Ilham\", \"Maria\", \"Yusuf\", 53, 8]\n",
    "others = [\"Satya\", \"Richard\", \"Stefani\", \"Timotius\", \"Veronica\", \"Viony\", \"Yoga\", \"Yoga\"]\n",
    "\n",
    "print(names == others)"
   ]
  },
  {
   "cell_type": "markdown",
   "id": "232e539f",
   "metadata": {},
   "source": [
    "Menghitung banyaknya item (_length_) dalam _list_:"
   ]
  },
  {
   "cell_type": "code",
   "execution_count": 29,
   "id": "6feb9153",
   "metadata": {},
   "outputs": [
    {
     "name": "stdout",
     "output_type": "stream",
     "text": [
      "length others: 8\n",
      "length names: 9\n"
     ]
    }
   ],
   "source": [
    "num_others = len(others)\n",
    "num_names = len(names)\n",
    "\n",
    "print(\"length others:\", num_others)\n",
    "print(\"length names:\", num_names)"
   ]
  },
  {
   "cell_type": "markdown",
   "id": "66556226",
   "metadata": {},
   "source": [
    "Memodifikasi nilai dalam list:"
   ]
  },
  {
   "cell_type": "code",
   "execution_count": 30,
   "id": "60cd22ad",
   "metadata": {},
   "outputs": [
    {
     "name": "stdout",
     "output_type": "stream",
     "text": [
      "['foo', 'bar', 'baz', 'qux', 'quux', 'corge']\n",
      "['foo', 'bar', 10, 'qux', 'quux', 20]\n"
     ]
    }
   ],
   "source": [
    "print(a)\n",
    "\n",
    "a[2] = 10\n",
    "a[-1] = 20\n",
    "\n",
    "print (a)"
   ]
  },
  {
   "cell_type": "markdown",
   "id": "800ed8eb",
   "metadata": {},
   "source": [
    "Menghapus item dalam _list_:"
   ]
  },
  {
   "cell_type": "code",
   "execution_count": 31,
   "id": "c4d24c6b",
   "metadata": {},
   "outputs": [
    {
     "name": "stdout",
     "output_type": "stream",
     "text": [
      "['foo', 'bar', 10, 'quux', 20]\n"
     ]
    }
   ],
   "source": [
    "del a[3]\n",
    "print(a)"
   ]
  },
  {
   "cell_type": "markdown",
   "id": "4bc48a51",
   "metadata": {},
   "source": [
    "## Tuple\n",
    "\n",
    "Struktur data yang tidak bisa diubah atau dihapus isinya"
   ]
  },
  {
   "cell_type": "code",
   "execution_count": 32,
   "id": "9103bde6",
   "metadata": {},
   "outputs": [
    {
     "name": "stdout",
     "output_type": "stream",
     "text": [
      "('foo', 'bar', 'baz', 'qux', 'quux', 'corge')\n",
      "<class 'tuple'>\n"
     ]
    }
   ],
   "source": [
    "t = ('foo', 'bar', 'baz', 'qux', 'quux', 'corge')\n",
    "print(t)\n",
    "print(type(t))"
   ]
  },
  {
   "cell_type": "code",
   "execution_count": 33,
   "id": "efde92ea",
   "metadata": {},
   "outputs": [
    {
     "name": "stdout",
     "output_type": "stream",
     "text": [
      "foo\n",
      "corge\n"
     ]
    }
   ],
   "source": [
    "print(t[0])\n",
    "print(t[-1])"
   ]
  },
  {
   "cell_type": "code",
   "execution_count": 34,
   "id": "6a8284df",
   "metadata": {},
   "outputs": [
    {
     "ename": "TypeError",
     "evalue": "'tuple' object does not support item assignment",
     "output_type": "error",
     "traceback": [
      "\u001b[1;31m---------------------------------------------------------------------------\u001b[0m",
      "\u001b[1;31mTypeError\u001b[0m                                 Traceback (most recent call last)",
      "\u001b[1;32m<ipython-input-34-a8ee75eaa0c9>\u001b[0m in \u001b[0;36m<module>\u001b[1;34m\u001b[0m\n\u001b[1;32m----> 1\u001b[1;33m \u001b[0mt\u001b[0m\u001b[1;33m[\u001b[0m\u001b[1;33m-\u001b[0m\u001b[1;36m1\u001b[0m\u001b[1;33m]\u001b[0m \u001b[1;33m=\u001b[0m \u001b[1;34m'foo'\u001b[0m \u001b[1;31m# will throw error\u001b[0m\u001b[1;33m\u001b[0m\u001b[1;33m\u001b[0m\u001b[0m\n\u001b[0m",
      "\u001b[1;31mTypeError\u001b[0m: 'tuple' object does not support item assignment"
     ]
    }
   ],
   "source": [
    "t[-1] = 'foo' # will throw error"
   ]
  },
  {
   "cell_type": "code",
   "execution_count": 35,
   "id": "0ea446ed",
   "metadata": {},
   "outputs": [
    {
     "name": "stdout",
     "output_type": "stream",
     "text": [
      "foo\n"
     ]
    }
   ],
   "source": [
    "t1, t2, t3, t4, t5, t6 = t\n",
    "print(t1)"
   ]
  },
  {
   "cell_type": "markdown",
   "id": "552ee326",
   "metadata": {},
   "source": [
    "## Dictionary\n",
    "\n",
    "Struktur data yang terdiri dari pasangan key-value"
   ]
  },
  {
   "cell_type": "code",
   "execution_count": 36,
   "id": "5b8e8cec",
   "metadata": {},
   "outputs": [
    {
     "name": "stdout",
     "output_type": "stream",
     "text": [
      "{'names': ['harry', 'michael', 'jordan', 'super'], 'age': [18, 33, 24, 40], 100: 'seratus'}\n",
      "<class 'dict'>\n"
     ]
    }
   ],
   "source": [
    "profiles = {\n",
    "    \"names\": [\"harry\", \"michael\", \"jordan\", \"super\"],\n",
    "    \"age\": [18, 33, 24, 40],\n",
    "    100: \"seratus\"\n",
    "}\n",
    "print(profiles)\n",
    "print(type(profiles))"
   ]
  },
  {
   "cell_type": "code",
   "execution_count": 37,
   "id": "111bdce8",
   "metadata": {},
   "outputs": [
    {
     "name": "stdout",
     "output_type": "stream",
     "text": [
      "['harry', 'michael', 'jordan', 'super']\n",
      "[18, 33, 24, 40]\n",
      "seratus\n"
     ]
    },
    {
     "ename": "KeyError",
     "evalue": "0",
     "output_type": "error",
     "traceback": [
      "\u001b[1;31m---------------------------------------------------------------------------\u001b[0m",
      "\u001b[1;31mKeyError\u001b[0m                                  Traceback (most recent call last)",
      "\u001b[1;32m<ipython-input-37-242957870256>\u001b[0m in \u001b[0;36m<module>\u001b[1;34m\u001b[0m\n\u001b[0;32m      2\u001b[0m \u001b[0mprint\u001b[0m\u001b[1;33m(\u001b[0m\u001b[0mprofiles\u001b[0m\u001b[1;33m[\u001b[0m\u001b[1;34m\"age\"\u001b[0m\u001b[1;33m]\u001b[0m\u001b[1;33m)\u001b[0m\u001b[1;33m\u001b[0m\u001b[1;33m\u001b[0m\u001b[0m\n\u001b[0;32m      3\u001b[0m \u001b[0mprint\u001b[0m\u001b[1;33m(\u001b[0m\u001b[0mprofiles\u001b[0m\u001b[1;33m[\u001b[0m\u001b[1;36m100\u001b[0m\u001b[1;33m]\u001b[0m\u001b[1;33m)\u001b[0m\u001b[1;33m\u001b[0m\u001b[1;33m\u001b[0m\u001b[0m\n\u001b[1;32m----> 4\u001b[1;33m \u001b[0mprint\u001b[0m\u001b[1;33m(\u001b[0m\u001b[0mprofiles\u001b[0m\u001b[1;33m[\u001b[0m\u001b[1;36m0\u001b[0m\u001b[1;33m]\u001b[0m\u001b[1;33m)\u001b[0m \u001b[1;31m# will throw error\u001b[0m\u001b[1;33m\u001b[0m\u001b[1;33m\u001b[0m\u001b[0m\n\u001b[0m",
      "\u001b[1;31mKeyError\u001b[0m: 0"
     ]
    }
   ],
   "source": [
    "print(profiles[\"names\"])\n",
    "print(profiles[\"age\"])\n",
    "print(profiles[100])\n",
    "print(profiles[0]) # will throw error"
   ]
  },
  {
   "cell_type": "markdown",
   "id": "9cd24398",
   "metadata": {},
   "source": [
    "Built-in methods:"
   ]
  },
  {
   "cell_type": "code",
   "execution_count": 38,
   "id": "5f90f526",
   "metadata": {},
   "outputs": [
    {
     "name": "stdout",
     "output_type": "stream",
     "text": [
      "dict_items([('names', ['harry', 'michael', 'jordan', 'super']), ('age', [18, 33, 24, 40]), (100, 'seratus')])\n",
      "dict_keys(['names', 'age', 100])\n",
      "dict_values([['harry', 'michael', 'jordan', 'super'], [18, 33, 24, 40], 'seratus'])\n"
     ]
    }
   ],
   "source": [
    "print(profiles.items())\n",
    "print(profiles.keys())\n",
    "print(profiles.values())"
   ]
  },
  {
   "cell_type": "markdown",
   "id": "c86b00a4",
   "metadata": {},
   "source": [
    "Mengubah nilai:"
   ]
  },
  {
   "cell_type": "code",
   "execution_count": 39,
   "id": "ca6b1cbe",
   "metadata": {},
   "outputs": [
    {
     "name": "stdout",
     "output_type": "stream",
     "text": [
      "{'names': ['harry', 'michael', 'jordan', 'super'], 'age': [50, 40, 45, 55], 100: 'seratus'}\n"
     ]
    }
   ],
   "source": [
    "profiles[\"age\"] = [50, 40, 45, 55]\n",
    "print(profiles)"
   ]
  },
  {
   "cell_type": "markdown",
   "id": "3832670f",
   "metadata": {},
   "source": [
    "Menghapus entri:"
   ]
  },
  {
   "cell_type": "code",
   "execution_count": 40,
   "id": "8938de98",
   "metadata": {},
   "outputs": [
    {
     "name": "stdout",
     "output_type": "stream",
     "text": [
      "{'names': ['harry', 'michael', 'jordan', 'super'], 'age': [50, 40, 45, 55]}\n"
     ]
    }
   ],
   "source": [
    "del profiles[100]\n",
    "print(profiles)"
   ]
  },
  {
   "cell_type": "markdown",
   "id": "9cab5388",
   "metadata": {},
   "source": [
    "Menambahkan item dalam _dict_:"
   ]
  },
  {
   "cell_type": "code",
   "execution_count": 41,
   "id": "7f502f17",
   "metadata": {},
   "outputs": [
    {
     "name": "stdout",
     "output_type": "stream",
     "text": [
      "{'names': ['harry', 'michael', 'jordan', 'super'], 'age': [50, 40, 45, 55], 'location': ['jakarta', 'bandung', 'surabaya']}\n"
     ]
    }
   ],
   "source": [
    "profiles[\"location\"] = [\"jakarta\", \"bandung\", \"surabaya\"]\n",
    "print(profiles)"
   ]
  },
  {
   "cell_type": "code",
   "execution_count": 42,
   "id": "ea4ad7bb",
   "metadata": {},
   "outputs": [
    {
     "name": "stdout",
     "output_type": "stream",
     "text": [
      "Hack\n",
      "PTP\n",
      "['Ralph', 'Betty', 'Joey']\n",
      "Betty\n",
      "{'dog': 'Fido', 'cat': 'Sox'}\n",
      "Sox\n"
     ]
    }
   ],
   "source": [
    "person = {}\n",
    "type(person)\n",
    "\n",
    "person['fname'] = 'Hack'\n",
    "person['lname'] = 'PTP'\n",
    "person['age'] = 51\n",
    "person['spouse'] = 'Edna'\n",
    "person['children'] = ['Ralph', 'Betty', 'Joey']\n",
    "person['pets'] = {'dog': 'Fido', 'cat': 'Sox'}\n",
    "\n",
    "print(person['fname'])\n",
    "print(person['lname'])\n",
    "print(person['children'])\n",
    "print(person['children'][1])\n",
    "print(person['pets'])\n",
    "print(person['pets']['cat'])"
   ]
  },
  {
   "cell_type": "code",
   "execution_count": null,
   "id": "801c7401",
   "metadata": {},
   "outputs": [],
   "source": []
  }
 ],
 "metadata": {
  "interpreter": {
   "hash": "ecf5722fdaf1897a315d257d89d94520bfcaa453217d5becf09b39e73618b0de"
  },
  "kernelspec": {
   "display_name": "Python 3",
   "language": "python",
   "name": "python3"
  },
  "language_info": {
   "codemirror_mode": {
    "name": "ipython",
    "version": 3
   },
   "file_extension": ".py",
   "mimetype": "text/x-python",
   "name": "python",
   "nbconvert_exporter": "python",
   "pygments_lexer": "ipython3",
   "version": "3.9.4"
  },
  "toc": {
   "base_numbering": 1,
   "nav_menu": {},
   "number_sections": false,
   "sideBar": true,
   "skip_h1_title": true,
   "title_cell": "Table of Contents",
   "title_sidebar": "Contents",
   "toc_cell": false,
   "toc_position": {},
   "toc_section_display": true,
   "toc_window_display": true
  }
 },
 "nbformat": 4,
 "nbformat_minor": 5
}
