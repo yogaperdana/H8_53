{
 "cells": [
  {
   "cell_type": "markdown",
   "id": "8612c182",
   "metadata": {},
   "source": [
    "# NumPy\n",
    "\n",
    "**Introduction to Python for Data Science** \\\n",
    "Course with Hacktiv8\n",
    "\n",
    "***\n",
    "\n",
    "**Sesi 4**\n",
    "\n",
    "Kamis, 6 Mei 2021 • 19:00 - 22:00 WIB\n",
    "\n",
    "***"
   ]
  },
  {
   "cell_type": "markdown",
   "id": "900f2851",
   "metadata": {},
   "source": [
    "\n",
    "## NumPy\n",
    "\n",
    "*Library* Python yang digunakan untuk operasi matematika dan struktur data numerikal"
   ]
  },
  {
   "cell_type": "code",
   "execution_count": 1,
   "id": "9b3733ef",
   "metadata": {},
   "outputs": [],
   "source": [
    "import numpy as np"
   ]
  },
  {
   "cell_type": "markdown",
   "id": "4dec3117",
   "metadata": {},
   "source": [
    "**Python List vs NumPy Array**\n",
    "\n",
    "Array NumPy lebih cepat dan lebih compact daripada List Python. Sebuah array mengkonsumsi lebih sedikit memori dan jauh lebih convenient untuk digunakan. NumPy menggunakan lebih sedikit memori untuk menyimpan data dan menyediakan mekanisme untuk menentukan tipe data, yang memungkinkan kode untuk dioptimalkan lebih jauh.\n",
    "\n",
    "Array adalah struktur data central dari NumPy."
   ]
  },
  {
   "cell_type": "code",
   "execution_count": 2,
   "id": "f7b68e33",
   "metadata": {},
   "outputs": [
    {
     "name": "stdout",
     "output_type": "stream",
     "text": [
      "array a from list: [2, 4, 6, 8]\n",
      "array b from list: [2, 2, 1, 1]\n"
     ]
    }
   ],
   "source": [
    "list_array_a = [2, 4, 6, 8]\n",
    "list_array_b = [2, 2, 1, 1]\n",
    "\n",
    "print(\"array a from list:\", list_array_a)\n",
    "print(\"array b from list:\", list_array_b)"
   ]
  },
  {
   "cell_type": "code",
   "execution_count": 3,
   "id": "cf539b8f",
   "metadata": {},
   "outputs": [
    {
     "data": {
      "text/plain": [
       "[2, 4, 6, 8, 2, 2, 1, 1]"
      ]
     },
     "execution_count": 3,
     "metadata": {},
     "output_type": "execute_result"
    }
   ],
   "source": [
    "list_array_a + list_array_b"
   ]
  },
  {
   "cell_type": "code",
   "execution_count": 4,
   "id": "a2f62e8d",
   "metadata": {},
   "outputs": [
    {
     "ename": "TypeError",
     "evalue": "can't multiply sequence by non-int of type 'list'",
     "output_type": "error",
     "traceback": [
      "\u001b[1;31m---------------------------------------------------------------------------\u001b[0m",
      "\u001b[1;31mTypeError\u001b[0m                                 Traceback (most recent call last)",
      "\u001b[1;32m<ipython-input-4-7577f05c44c2>\u001b[0m in \u001b[0;36m<module>\u001b[1;34m\u001b[0m\n\u001b[1;32m----> 1\u001b[1;33m \u001b[0mlist_array_a\u001b[0m \u001b[1;33m*\u001b[0m \u001b[0mlist_array_b\u001b[0m\u001b[1;33m\u001b[0m\u001b[1;33m\u001b[0m\u001b[0m\n\u001b[0m",
      "\u001b[1;31mTypeError\u001b[0m: can't multiply sequence by non-int of type 'list'"
     ]
    }
   ],
   "source": [
    "list_array_a * list_array_b"
   ]
  },
  {
   "cell_type": "markdown",
   "id": "fb2adbc8",
   "metadata": {},
   "source": [
    "Mengubah list menjadi array:"
   ]
  },
  {
   "cell_type": "code",
   "execution_count": 5,
   "id": "05e5b463",
   "metadata": {},
   "outputs": [
    {
     "name": "stdout",
     "output_type": "stream",
     "text": [
      "[2 4 6 8]\n",
      "[2 2 1 1]\n"
     ]
    }
   ],
   "source": [
    "np_array_a1 = np.array(list_array_a)\n",
    "print(np_array_a1)\n",
    "\n",
    "np_array_b1 = np.array(list_array_b)\n",
    "print(np_array_b1)"
   ]
  },
  {
   "cell_type": "code",
   "execution_count": 6,
   "id": "cb83f24b",
   "metadata": {},
   "outputs": [
    {
     "data": {
      "text/plain": [
       "(array([2, 4, 6, 8]), array([2, 2, 1, 1]))"
      ]
     },
     "execution_count": 6,
     "metadata": {},
     "output_type": "execute_result"
    }
   ],
   "source": [
    "np_array_a1, np_array_b1"
   ]
  },
  {
   "cell_type": "markdown",
   "id": "cc2478e2",
   "metadata": {},
   "source": [
    "_Slicing array_:"
   ]
  },
  {
   "cell_type": "code",
   "execution_count": 7,
   "id": "e83b1616",
   "metadata": {},
   "outputs": [
    {
     "name": "stdout",
     "output_type": "stream",
     "text": [
      "[6 8]\n",
      "[2 2]\n"
     ]
    }
   ],
   "source": [
    "print(np_array_a1[2:])\n",
    "print(np_array_b1[:2])"
   ]
  },
  {
   "cell_type": "markdown",
   "id": "9ddae64b",
   "metadata": {},
   "source": [
    "Menggabungkan array:"
   ]
  },
  {
   "cell_type": "code",
   "execution_count": 8,
   "id": "f66a28ea",
   "metadata": {},
   "outputs": [
    {
     "data": {
      "text/plain": [
       "array([[1, 2, 3],\n",
       "       [4, 5, 6]])"
      ]
     },
     "execution_count": 8,
     "metadata": {},
     "output_type": "execute_result"
    }
   ],
   "source": [
    "np_array_a2 = np.array([[1, 2, 3], [4, 5, 6]])\n",
    "np_array_a2"
   ]
  },
  {
   "cell_type": "code",
   "execution_count": 9,
   "id": "f0298690",
   "metadata": {},
   "outputs": [
    {
     "data": {
      "text/plain": [
       "array([[0.1, 0.2, 0.3],\n",
       "       [0.4, 0.5, 0.6]])"
      ]
     },
     "execution_count": 9,
     "metadata": {},
     "output_type": "execute_result"
    }
   ],
   "source": [
    "np_array_b2 = np.array([[.1, .2, .3], [.4, .5, .6]])\n",
    "np_array_b2"
   ]
  },
  {
   "cell_type": "code",
   "execution_count": 10,
   "id": "bcd6ce26",
   "metadata": {},
   "outputs": [
    {
     "name": "stdout",
     "output_type": "stream",
     "text": [
      "(4,)\n",
      "(2, 3)\n",
      "(4,)\n",
      "(2, 3)\n",
      "\n",
      "[[10 20 30 40]] (1, 4)\n",
      "[[ 5]\n",
      " [10]\n",
      " [15]\n",
      " [20]] (4, 1)\n"
     ]
    }
   ],
   "source": [
    "print(np_array_a1.shape)\n",
    "print(np_array_a2.shape)\n",
    "print(np_array_b1.shape)\n",
    "print(np_array_b2.shape)\n",
    "\n",
    "print('')\n",
    "\n",
    "np_array_a14 = np.array([[10, 20, 30, 40]])\n",
    "np_array_a41 = np.array([[5], [10], [15], [20]])\n",
    "print(np_array_a14, np_array_a14.shape)\n",
    "print(np_array_a41, np_array_a41.shape)"
   ]
  },
  {
   "cell_type": "markdown",
   "id": "1dfa4acc",
   "metadata": {},
   "source": [
    "Mengisi array dengan angka 0:"
   ]
  },
  {
   "cell_type": "code",
   "execution_count": 11,
   "id": "69a4dbaf",
   "metadata": {},
   "outputs": [
    {
     "name": "stdout",
     "output_type": "stream",
     "text": [
      "[0. 0. 0. 0. 0.]\n",
      "[[0. 0. 0. 0.]\n",
      " [0. 0. 0. 0.]\n",
      " [0. 0. 0. 0.]]\n"
     ]
    }
   ],
   "source": [
    "np_array_zeros1 = np.zeros(5)\n",
    "np_array_zeros2 = np.zeros((3, 4))\n",
    "\n",
    "print(np_array_zeros1)\n",
    "print(np_array_zeros2)"
   ]
  },
  {
   "cell_type": "code",
   "execution_count": 12,
   "id": "d5dc01f7",
   "metadata": {},
   "outputs": [
    {
     "name": "stdout",
     "output_type": "stream",
     "text": [
      "[[0. 0. 0. ... 0. 0. 0.]\n",
      " [0. 0. 0. ... 0. 0. 0.]\n",
      " [0. 0. 0. ... 0. 0. 0.]\n",
      " ...\n",
      " [0. 0. 0. ... 0. 0. 0.]\n",
      " [0. 0. 0. ... 0. 0. 0.]\n",
      " [0. 0. 0. ... 0. 0. 0.]]\n",
      "(100, 100)\n"
     ]
    }
   ],
   "source": [
    "zeros = np.zeros((100, 100))\n",
    "print(zeros)\n",
    "print(zeros.shape)"
   ]
  },
  {
   "cell_type": "markdown",
   "id": "5f8ebf6f",
   "metadata": {},
   "source": [
    "Mengisi array dengan angka 1:"
   ]
  },
  {
   "cell_type": "code",
   "execution_count": 13,
   "id": "88342d68",
   "metadata": {},
   "outputs": [
    {
     "name": "stdout",
     "output_type": "stream",
     "text": [
      "[1. 1. 1. 1. 1. 1. 1. 1. 1. 1.]\n",
      "[[1. 1. 1.]\n",
      " [1. 1. 1.]\n",
      " [1. 1. 1.]\n",
      " [1. 1. 1.]\n",
      " [1. 1. 1.]\n",
      " [1. 1. 1.]\n",
      " [1. 1. 1.]\n",
      " [1. 1. 1.]\n",
      " [1. 1. 1.]\n",
      " [1. 1. 1.]]\n"
     ]
    }
   ],
   "source": [
    "np_array_ones1 = np.ones(10)\n",
    "np_array_ones2 = np.ones((10, 3))\n",
    "\n",
    "print(np_array_ones1)\n",
    "print(np_array_ones2)"
   ]
  },
  {
   "cell_type": "markdown",
   "id": "d5d222b8",
   "metadata": {},
   "source": [
    "Mengembalikan angka nilai dimensi dari array:"
   ]
  },
  {
   "cell_type": "code",
   "execution_count": 14,
   "id": "68ea5526",
   "metadata": {},
   "outputs": [
    {
     "name": "stdout",
     "output_type": "stream",
     "text": [
      "1\n",
      "2\n"
     ]
    }
   ],
   "source": [
    "print(np_array_zeros1.ndim)\n",
    "print(np_array_zeros2.ndim)"
   ]
  },
  {
   "cell_type": "markdown",
   "id": "4d48c507",
   "metadata": {},
   "source": [
    "Ukuran dari array (jumlah item):"
   ]
  },
  {
   "cell_type": "code",
   "execution_count": 15,
   "id": "b1e998a7",
   "metadata": {},
   "outputs": [
    {
     "name": "stdout",
     "output_type": "stream",
     "text": [
      "4\n",
      "30\n"
     ]
    }
   ],
   "source": [
    "print(np_array_a14.size)\n",
    "print(np_array_ones2.size)"
   ]
  },
  {
   "cell_type": "markdown",
   "id": "4b4bb111",
   "metadata": {},
   "source": [
    "Membuat array dari rentang (_range_) tertentu:"
   ]
  },
  {
   "cell_type": "code",
   "execution_count": 16,
   "id": "e97a2eb8",
   "metadata": {},
   "outputs": [
    {
     "name": "stdout",
     "output_type": "stream",
     "text": [
      "[0 1 2 3 4 5 6 7 8 9]\n",
      "[ 0  2  4  6  8 10 12 14 16 18]\n",
      "[50 45 40 35 30 25 20 15 10  5]\n"
     ]
    }
   ],
   "source": [
    "np_arange10 = np.arange(10)\n",
    "print(np_arange10)\n",
    "\n",
    "np_arange20 = np.arange(0, 20, 2)\n",
    "print(np_arange20)\n",
    "\n",
    "np_arange_desc = np.arange(50, 0, -5)\n",
    "print(np_arange_desc)"
   ]
  },
  {
   "cell_type": "markdown",
   "id": "ef1a9144",
   "metadata": {},
   "source": [
    "Menggabungkan banyak array menjadi satu array (_appending_):"
   ]
  },
  {
   "cell_type": "code",
   "execution_count": 17,
   "id": "c4b8de1e",
   "metadata": {},
   "outputs": [
    {
     "data": {
      "text/plain": [
       "array([ 0,  1,  2,  3,  4,  5,  6,  7,  8,  9,  0,  2,  4,  6,  8, 10, 12,\n",
       "       14, 16, 18, 50, 45, 40, 35, 30, 25, 20, 15, 10,  5])"
      ]
     },
     "execution_count": 17,
     "metadata": {},
     "output_type": "execute_result"
    }
   ],
   "source": [
    "arr = np.append(np_arange10, np_arange20)\n",
    "np.append(arr, np_arange_desc)"
   ]
  },
  {
   "cell_type": "code",
   "execution_count": 18,
   "id": "f9f4348f",
   "metadata": {},
   "outputs": [
    {
     "data": {
      "text/plain": [
       "array([1. , 2. , 3. , 4. , 5. , 6. , 0.1, 0.2, 0.3, 0.4, 0.5, 0.6])"
      ]
     },
     "execution_count": 18,
     "metadata": {},
     "output_type": "execute_result"
    }
   ],
   "source": [
    "np.append(np_array_a2, np_array_b2)"
   ]
  },
  {
   "cell_type": "markdown",
   "id": "97397bf7",
   "metadata": {},
   "source": [
    "Menyesuaikan _axis_:"
   ]
  },
  {
   "cell_type": "code",
   "execution_count": 19,
   "id": "5d50ae6d",
   "metadata": {},
   "outputs": [
    {
     "data": {
      "text/plain": [
       "array([[1. , 2. , 3. ],\n",
       "       [4. , 5. , 6. ],\n",
       "       [0.1, 0.2, 0.3],\n",
       "       [0.4, 0.5, 0.6]])"
      ]
     },
     "execution_count": 19,
     "metadata": {},
     "output_type": "execute_result"
    }
   ],
   "source": [
    "np.append(np_array_a2, np_array_b2, axis=0)"
   ]
  },
  {
   "cell_type": "code",
   "execution_count": 20,
   "id": "d391522c",
   "metadata": {},
   "outputs": [
    {
     "data": {
      "text/plain": [
       "array([[1. , 2. , 3. , 0.1, 0.2, 0.3],\n",
       "       [4. , 5. , 6. , 0.4, 0.5, 0.6]])"
      ]
     },
     "execution_count": 20,
     "metadata": {},
     "output_type": "execute_result"
    }
   ],
   "source": [
    "np.append(np_array_a2, np_array_b2, axis=1)"
   ]
  },
  {
   "cell_type": "code",
   "execution_count": 21,
   "id": "7ab478e6",
   "metadata": {},
   "outputs": [
    {
     "data": {
      "text/plain": [
       "array([1., 2., 3., 4., 5., 6., 0., 0., 0., 0., 0., 0., 0., 0., 0., 0., 0.,\n",
       "       0.])"
      ]
     },
     "execution_count": 21,
     "metadata": {},
     "output_type": "execute_result"
    }
   ],
   "source": [
    "np.append(np_array_a2, np_array_zeros2)"
   ]
  },
  {
   "cell_type": "code",
   "execution_count": 22,
   "id": "13b167d2",
   "metadata": {},
   "outputs": [
    {
     "ename": "ValueError",
     "evalue": "all the input array dimensions for the concatenation axis must match exactly, but along dimension 1, the array at index 0 has size 3 and the array at index 1 has size 4",
     "output_type": "error",
     "traceback": [
      "\u001b[1;31m---------------------------------------------------------------------------\u001b[0m",
      "\u001b[1;31mValueError\u001b[0m                                Traceback (most recent call last)",
      "\u001b[1;32m<ipython-input-22-5478ed10e2c9>\u001b[0m in \u001b[0;36m<module>\u001b[1;34m\u001b[0m\n\u001b[1;32m----> 1\u001b[1;33m \u001b[0mnp\u001b[0m\u001b[1;33m.\u001b[0m\u001b[0mappend\u001b[0m\u001b[1;33m(\u001b[0m\u001b[0mnp_array_a2\u001b[0m\u001b[1;33m,\u001b[0m \u001b[0mnp_array_zeros2\u001b[0m\u001b[1;33m,\u001b[0m \u001b[0maxis\u001b[0m\u001b[1;33m=\u001b[0m\u001b[1;36m0\u001b[0m\u001b[1;33m)\u001b[0m\u001b[1;33m\u001b[0m\u001b[1;33m\u001b[0m\u001b[0m\n\u001b[0m",
      "\u001b[1;32m<__array_function__ internals>\u001b[0m in \u001b[0;36mappend\u001b[1;34m(*args, **kwargs)\u001b[0m\n",
      "\u001b[1;32mC:\\ProgramData\\Miniconda3\\lib\\site-packages\\numpy\\lib\\function_base.py\u001b[0m in \u001b[0;36mappend\u001b[1;34m(arr, values, axis)\u001b[0m\n\u001b[0;32m   4743\u001b[0m         \u001b[0mvalues\u001b[0m \u001b[1;33m=\u001b[0m \u001b[0mravel\u001b[0m\u001b[1;33m(\u001b[0m\u001b[0mvalues\u001b[0m\u001b[1;33m)\u001b[0m\u001b[1;33m\u001b[0m\u001b[1;33m\u001b[0m\u001b[0m\n\u001b[0;32m   4744\u001b[0m         \u001b[0maxis\u001b[0m \u001b[1;33m=\u001b[0m \u001b[0marr\u001b[0m\u001b[1;33m.\u001b[0m\u001b[0mndim\u001b[0m\u001b[1;33m-\u001b[0m\u001b[1;36m1\u001b[0m\u001b[1;33m\u001b[0m\u001b[1;33m\u001b[0m\u001b[0m\n\u001b[1;32m-> 4745\u001b[1;33m     \u001b[1;32mreturn\u001b[0m \u001b[0mconcatenate\u001b[0m\u001b[1;33m(\u001b[0m\u001b[1;33m(\u001b[0m\u001b[0marr\u001b[0m\u001b[1;33m,\u001b[0m \u001b[0mvalues\u001b[0m\u001b[1;33m)\u001b[0m\u001b[1;33m,\u001b[0m \u001b[0maxis\u001b[0m\u001b[1;33m=\u001b[0m\u001b[0maxis\u001b[0m\u001b[1;33m)\u001b[0m\u001b[1;33m\u001b[0m\u001b[1;33m\u001b[0m\u001b[0m\n\u001b[0m\u001b[0;32m   4746\u001b[0m \u001b[1;33m\u001b[0m\u001b[0m\n\u001b[0;32m   4747\u001b[0m \u001b[1;33m\u001b[0m\u001b[0m\n",
      "\u001b[1;32m<__array_function__ internals>\u001b[0m in \u001b[0;36mconcatenate\u001b[1;34m(*args, **kwargs)\u001b[0m\n",
      "\u001b[1;31mValueError\u001b[0m: all the input array dimensions for the concatenation axis must match exactly, but along dimension 1, the array at index 0 has size 3 and the array at index 1 has size 4"
     ]
    }
   ],
   "source": [
    "np.append(np_array_a2, np_array_zeros2, axis=0)"
   ]
  },
  {
   "cell_type": "code",
   "execution_count": 23,
   "id": "0a01cf78",
   "metadata": {},
   "outputs": [
    {
     "ename": "ValueError",
     "evalue": "all the input array dimensions for the concatenation axis must match exactly, but along dimension 0, the array at index 0 has size 2 and the array at index 1 has size 3",
     "output_type": "error",
     "traceback": [
      "\u001b[1;31m---------------------------------------------------------------------------\u001b[0m",
      "\u001b[1;31mValueError\u001b[0m                                Traceback (most recent call last)",
      "\u001b[1;32m<ipython-input-23-6aee014915e6>\u001b[0m in \u001b[0;36m<module>\u001b[1;34m\u001b[0m\n\u001b[1;32m----> 1\u001b[1;33m \u001b[0mnp\u001b[0m\u001b[1;33m.\u001b[0m\u001b[0mappend\u001b[0m\u001b[1;33m(\u001b[0m\u001b[0mnp_array_a2\u001b[0m\u001b[1;33m,\u001b[0m \u001b[0mnp_array_zeros2\u001b[0m\u001b[1;33m,\u001b[0m \u001b[0maxis\u001b[0m\u001b[1;33m=\u001b[0m\u001b[1;36m1\u001b[0m\u001b[1;33m)\u001b[0m\u001b[1;33m\u001b[0m\u001b[1;33m\u001b[0m\u001b[0m\n\u001b[0m",
      "\u001b[1;32m<__array_function__ internals>\u001b[0m in \u001b[0;36mappend\u001b[1;34m(*args, **kwargs)\u001b[0m\n",
      "\u001b[1;32mC:\\ProgramData\\Miniconda3\\lib\\site-packages\\numpy\\lib\\function_base.py\u001b[0m in \u001b[0;36mappend\u001b[1;34m(arr, values, axis)\u001b[0m\n\u001b[0;32m   4743\u001b[0m         \u001b[0mvalues\u001b[0m \u001b[1;33m=\u001b[0m \u001b[0mravel\u001b[0m\u001b[1;33m(\u001b[0m\u001b[0mvalues\u001b[0m\u001b[1;33m)\u001b[0m\u001b[1;33m\u001b[0m\u001b[1;33m\u001b[0m\u001b[0m\n\u001b[0;32m   4744\u001b[0m         \u001b[0maxis\u001b[0m \u001b[1;33m=\u001b[0m \u001b[0marr\u001b[0m\u001b[1;33m.\u001b[0m\u001b[0mndim\u001b[0m\u001b[1;33m-\u001b[0m\u001b[1;36m1\u001b[0m\u001b[1;33m\u001b[0m\u001b[1;33m\u001b[0m\u001b[0m\n\u001b[1;32m-> 4745\u001b[1;33m     \u001b[1;32mreturn\u001b[0m \u001b[0mconcatenate\u001b[0m\u001b[1;33m(\u001b[0m\u001b[1;33m(\u001b[0m\u001b[0marr\u001b[0m\u001b[1;33m,\u001b[0m \u001b[0mvalues\u001b[0m\u001b[1;33m)\u001b[0m\u001b[1;33m,\u001b[0m \u001b[0maxis\u001b[0m\u001b[1;33m=\u001b[0m\u001b[0maxis\u001b[0m\u001b[1;33m)\u001b[0m\u001b[1;33m\u001b[0m\u001b[1;33m\u001b[0m\u001b[0m\n\u001b[0m\u001b[0;32m   4746\u001b[0m \u001b[1;33m\u001b[0m\u001b[0m\n\u001b[0;32m   4747\u001b[0m \u001b[1;33m\u001b[0m\u001b[0m\n",
      "\u001b[1;32m<__array_function__ internals>\u001b[0m in \u001b[0;36mconcatenate\u001b[1;34m(*args, **kwargs)\u001b[0m\n",
      "\u001b[1;31mValueError\u001b[0m: all the input array dimensions for the concatenation axis must match exactly, but along dimension 0, the array at index 0 has size 2 and the array at index 1 has size 3"
     ]
    }
   ],
   "source": [
    "np.append(np_array_a2, np_array_zeros2, axis=1)"
   ]
  },
  {
   "cell_type": "markdown",
   "id": "f2fba966",
   "metadata": {},
   "source": [
    "Sortir nilai dalam array:"
   ]
  },
  {
   "cell_type": "code",
   "execution_count": 24,
   "id": "7206883f",
   "metadata": {},
   "outputs": [
    {
     "data": {
      "text/plain": [
       "array([50, 45, 40, 35, 30, 25, 20, 15, 10,  5])"
      ]
     },
     "execution_count": 24,
     "metadata": {},
     "output_type": "execute_result"
    }
   ],
   "source": [
    "np_arange_desc"
   ]
  },
  {
   "cell_type": "code",
   "execution_count": 25,
   "id": "7d5a1f17",
   "metadata": {},
   "outputs": [
    {
     "data": {
      "text/plain": [
       "array([ 5, 10, 15, 20, 25, 30, 35, 40, 45, 50])"
      ]
     },
     "execution_count": 25,
     "metadata": {},
     "output_type": "execute_result"
    }
   ],
   "source": [
    "np.sort(np_arange_desc)"
   ]
  },
  {
   "cell_type": "code",
   "execution_count": 26,
   "id": "8f4b9a92",
   "metadata": {},
   "outputs": [
    {
     "name": "stdout",
     "output_type": "stream",
     "text": [
      "[[1.  2.  3. ]\n",
      " [4.  5.  6. ]\n",
      " [0.1 0.2 0.3]\n",
      " [0.4 0.5 0.6]]\n"
     ]
    }
   ],
   "source": [
    "np_array_a2b2 = np.append(np_array_a2, np_array_b2, axis=0)\n",
    "print(np_array_a2b2)"
   ]
  },
  {
   "cell_type": "code",
   "execution_count": 27,
   "id": "c9bad322",
   "metadata": {},
   "outputs": [
    {
     "data": {
      "text/plain": [
       "array([[0.1, 0.2, 0.3],\n",
       "       [0.4, 0.5, 0.6],\n",
       "       [1. , 2. , 3. ],\n",
       "       [4. , 5. , 6. ]])"
      ]
     },
     "execution_count": 27,
     "metadata": {},
     "output_type": "execute_result"
    }
   ],
   "source": [
    "np.sort(np_array_a2b2, axis=0)"
   ]
  },
  {
   "cell_type": "markdown",
   "id": "c7c18001",
   "metadata": {},
   "source": [
    "### Reshape"
   ]
  },
  {
   "cell_type": "code",
   "execution_count": 28,
   "id": "a44d2890",
   "metadata": {},
   "outputs": [
    {
     "name": "stdout",
     "output_type": "stream",
     "text": [
      "[[[  9   3   1   5]\n",
      "  [  1   3   2   3]\n",
      "  [  4  10   3   2]]\n",
      "\n",
      " [[ 19   3   1  50]\n",
      "  [ 13   1  21  13]\n",
      "  [  4  10   0   2]]\n",
      "\n",
      " [[100   2   3   3]\n",
      "  [  9   3   4   3]\n",
      "  [  1   1   2   0]]]\n",
      "shape: (3, 3, 4)\n",
      "ndim: 3\n",
      "size: 36\n"
     ]
    }
   ],
   "source": [
    "np_array_a3 = np.array(\n",
    "    [\n",
    "        [\n",
    "            [9, 3, 1, 5],\n",
    "            [1, 3, 2, 3],\n",
    "            [4, 10, 3, 2],\n",
    "        ],\n",
    "        [\n",
    "            [19, 3, 1, 50],\n",
    "            [13, 1, 21, 13],\n",
    "            [4, 10, 0, 2],\n",
    "        ],\n",
    "        [\n",
    "            [100, 2, 3, 3],\n",
    "            [9, 3, 4, 3],\n",
    "            [1, 1, 2, 0]\n",
    "        ]\n",
    "    ]\n",
    ")\n",
    "print(np_array_a3)\n",
    "print(\"shape:\", np_array_a3.shape)\n",
    "print(\"ndim:\", np_array_a3.ndim)\n",
    "print(\"size:\", np_array_a3.size)"
   ]
  },
  {
   "cell_type": "code",
   "execution_count": 29,
   "id": "ae4db1bf",
   "metadata": {},
   "outputs": [
    {
     "data": {
      "text/plain": [
       "numpy.ndarray"
      ]
     },
     "execution_count": 29,
     "metadata": {},
     "output_type": "execute_result"
    }
   ],
   "source": [
    "type(np_array_a3)"
   ]
  },
  {
   "cell_type": "code",
   "execution_count": 30,
   "id": "68e71af1",
   "metadata": {},
   "outputs": [
    {
     "data": {
      "text/plain": [
       "array([[  9,   3,   1,   5,   1,   3],\n",
       "       [  2,   3,   4,  10,   3,   2],\n",
       "       [ 19,   3,   1,  50,  13,   1],\n",
       "       [ 21,  13,   4,  10,   0,   2],\n",
       "       [100,   2,   3,   3,   9,   3],\n",
       "       [  4,   3,   1,   1,   2,   0]])"
      ]
     },
     "execution_count": 30,
     "metadata": {},
     "output_type": "execute_result"
    }
   ],
   "source": [
    "np.reshape(np_array_a3, (6, 6))"
   ]
  },
  {
   "cell_type": "code",
   "execution_count": 31,
   "id": "614aba60",
   "metadata": {},
   "outputs": [
    {
     "data": {
      "text/plain": [
       "array([[  9,   3,   1,   5,   1,   3],\n",
       "       [  2,   3,   4,  10,   3,   2],\n",
       "       [ 19,   3,   1,  50,  13,   1],\n",
       "       [ 21,  13,   4,  10,   0,   2],\n",
       "       [100,   2,   3,   3,   9,   3],\n",
       "       [  4,   3,   1,   1,   2,   0]])"
      ]
     },
     "execution_count": 31,
     "metadata": {},
     "output_type": "execute_result"
    }
   ],
   "source": [
    "np_array_a3.reshape((6, 6))"
   ]
  },
  {
   "cell_type": "code",
   "execution_count": 32,
   "id": "87454eaa",
   "metadata": {},
   "outputs": [
    {
     "ename": "ValueError",
     "evalue": "cannot reshape array of size 36 into shape (4,4)",
     "output_type": "error",
     "traceback": [
      "\u001b[1;31m---------------------------------------------------------------------------\u001b[0m",
      "\u001b[1;31mValueError\u001b[0m                                Traceback (most recent call last)",
      "\u001b[1;32m<ipython-input-32-1dc9003aabd0>\u001b[0m in \u001b[0;36m<module>\u001b[1;34m\u001b[0m\n\u001b[1;32m----> 1\u001b[1;33m \u001b[0mnp_array_a3\u001b[0m\u001b[1;33m.\u001b[0m\u001b[0mreshape\u001b[0m\u001b[1;33m(\u001b[0m\u001b[1;33m(\u001b[0m\u001b[1;36m4\u001b[0m\u001b[1;33m,\u001b[0m \u001b[1;36m4\u001b[0m\u001b[1;33m)\u001b[0m\u001b[1;33m)\u001b[0m\u001b[1;33m\u001b[0m\u001b[1;33m\u001b[0m\u001b[0m\n\u001b[0m",
      "\u001b[1;31mValueError\u001b[0m: cannot reshape array of size 36 into shape (4,4)"
     ]
    }
   ],
   "source": [
    "np_array_a3.reshape((4, 4))"
   ]
  },
  {
   "cell_type": "code",
   "execution_count": 33,
   "id": "13ef0e03",
   "metadata": {},
   "outputs": [
    {
     "ename": "ValueError",
     "evalue": "cannot reshape array of size 36 into shape (4,10)",
     "output_type": "error",
     "traceback": [
      "\u001b[1;31m---------------------------------------------------------------------------\u001b[0m",
      "\u001b[1;31mValueError\u001b[0m                                Traceback (most recent call last)",
      "\u001b[1;32m<ipython-input-33-bad9cef87d77>\u001b[0m in \u001b[0;36m<module>\u001b[1;34m\u001b[0m\n\u001b[1;32m----> 1\u001b[1;33m \u001b[0mnp_array_a3\u001b[0m\u001b[1;33m.\u001b[0m\u001b[0mreshape\u001b[0m\u001b[1;33m(\u001b[0m\u001b[1;33m(\u001b[0m\u001b[1;36m4\u001b[0m\u001b[1;33m,\u001b[0m \u001b[1;36m10\u001b[0m\u001b[1;33m)\u001b[0m\u001b[1;33m)\u001b[0m\u001b[1;33m\u001b[0m\u001b[1;33m\u001b[0m\u001b[0m\n\u001b[0m",
      "\u001b[1;31mValueError\u001b[0m: cannot reshape array of size 36 into shape (4,10)"
     ]
    }
   ],
   "source": [
    "np_array_a3.reshape((4, 10))"
   ]
  },
  {
   "cell_type": "code",
   "execution_count": 34,
   "id": "d4b5b0bd",
   "metadata": {},
   "outputs": [
    {
     "data": {
      "text/plain": [
       "array([[[[  9,   3],\n",
       "         [  1,   5]],\n",
       "\n",
       "        [[  1,   3],\n",
       "         [  2,   3]],\n",
       "\n",
       "        [[  4,  10],\n",
       "         [  3,   2]]],\n",
       "\n",
       "\n",
       "       [[[ 19,   3],\n",
       "         [  1,  50]],\n",
       "\n",
       "        [[ 13,   1],\n",
       "         [ 21,  13]],\n",
       "\n",
       "        [[  4,  10],\n",
       "         [  0,   2]]],\n",
       "\n",
       "\n",
       "       [[[100,   2],\n",
       "         [  3,   3]],\n",
       "\n",
       "        [[  9,   3],\n",
       "         [  4,   3]],\n",
       "\n",
       "        [[  1,   1],\n",
       "         [  2,   0]]]])"
      ]
     },
     "execution_count": 34,
     "metadata": {},
     "output_type": "execute_result"
    }
   ],
   "source": [
    "np_array_a3.reshape((3, 3, 2, 2))"
   ]
  },
  {
   "cell_type": "code",
   "execution_count": 35,
   "id": "e6f2339f",
   "metadata": {},
   "outputs": [
    {
     "data": {
      "text/plain": [
       "array([[2],\n",
       "       [4],\n",
       "       [6],\n",
       "       [8]])"
      ]
     },
     "execution_count": 35,
     "metadata": {},
     "output_type": "execute_result"
    }
   ],
   "source": [
    "np_array_a1[:, np.newaxis]"
   ]
  },
  {
   "cell_type": "code",
   "execution_count": 36,
   "id": "590f2e0d",
   "metadata": {},
   "outputs": [
    {
     "data": {
      "text/plain": [
       "array([[2, 4, 6, 8]])"
      ]
     },
     "execution_count": 36,
     "metadata": {},
     "output_type": "execute_result"
    }
   ],
   "source": [
    "np.expand_dims(np_array_a1, axis=0)"
   ]
  },
  {
   "cell_type": "code",
   "execution_count": 37,
   "id": "bec9d73f",
   "metadata": {},
   "outputs": [
    {
     "data": {
      "text/plain": [
       "array([[[[2]],\n",
       "\n",
       "        [[4]],\n",
       "\n",
       "        [[6]],\n",
       "\n",
       "        [[8]]]])"
      ]
     },
     "execution_count": 37,
     "metadata": {},
     "output_type": "execute_result"
    }
   ],
   "source": [
    "np_array_a1[None, :, None, None]"
   ]
  },
  {
   "cell_type": "code",
   "execution_count": 38,
   "id": "7c664ab0",
   "metadata": {},
   "outputs": [
    {
     "data": {
      "text/plain": [
       "array([[[[2]],\n",
       "\n",
       "        [[4]],\n",
       "\n",
       "        [[6]],\n",
       "\n",
       "        [[8]]]])"
      ]
     },
     "execution_count": 38,
     "metadata": {},
     "output_type": "execute_result"
    }
   ],
   "source": [
    "np_array_a1[np.newaxis, :, np.newaxis, np.newaxis]"
   ]
  },
  {
   "cell_type": "code",
   "execution_count": 39,
   "id": "80b8ae44",
   "metadata": {},
   "outputs": [
    {
     "name": "stdout",
     "output_type": "stream",
     "text": [
      "[[0. 0. 0. 0. 0.]]\n",
      "[[0.]\n",
      " [0.]\n",
      " [0.]\n",
      " [0.]\n",
      " [0.]]\n",
      "[[[0.]\n",
      "  [0.]\n",
      "  [0.]\n",
      "  [0.]\n",
      "  [0.]]]\n"
     ]
    }
   ],
   "source": [
    "print(np_array_zeros1.reshape((1, 5)))\n",
    "print(np_array_zeros1.reshape((5, 1)))\n",
    "print(np_array_zeros1.reshape((1, 5, 1)))"
   ]
  },
  {
   "cell_type": "code",
   "execution_count": 40,
   "id": "35f5160f",
   "metadata": {},
   "outputs": [
    {
     "data": {
      "text/plain": [
       "array([[1., 2., 3., 4., 5.],\n",
       "       [6., 0., 0., 0., 0.]])"
      ]
     },
     "execution_count": 40,
     "metadata": {},
     "output_type": "execute_result"
    }
   ],
   "source": [
    "size = np_array_a2.size\n",
    "new_size = 10\n",
    "np.append(np_array_a2, np.zeros(new_size - size)).reshape((2, 5))"
   ]
  },
  {
   "cell_type": "code",
   "execution_count": 41,
   "id": "6fa22beb",
   "metadata": {},
   "outputs": [
    {
     "name": "stdout",
     "output_type": "stream",
     "text": [
      "[0.  0.2 0.4 0.6 0.8 1.  1.2 1.4 1.6 1.8 2. ] (11,) 11\n"
     ]
    }
   ],
   "source": [
    "np_array_c1 = np.arange(0, 2.2, .2)\n",
    "print(np_array_c1, np_array_c1.shape, np_array_c1.size)"
   ]
  },
  {
   "cell_type": "code",
   "execution_count": 42,
   "id": "abe15894",
   "metadata": {},
   "outputs": [
    {
     "name": "stdout",
     "output_type": "stream",
     "text": [
      "number of item: 11\n",
      "median: 1.0\n"
     ]
    }
   ],
   "source": [
    "# ambil median\n",
    "# median -> nilai tengah -> n=9, nilai tengah index ke-4\n",
    "# cari tahu n -> len()\n",
    "# n // 2\n",
    "n = np_array_c1.shape[0]\n",
    "print(\"number of item:\", n)\n",
    "\n",
    "med = np_array_c1[n // 2]\n",
    "print(\"median:\", med)"
   ]
  },
  {
   "cell_type": "code",
   "execution_count": 43,
   "id": "a565a4aa",
   "metadata": {},
   "outputs": [
    {
     "name": "stdout",
     "output_type": "stream",
     "text": [
      "[[0.1, 0.2, 0.3], [0.4, 0.5, 0.6]] <class 'list'>\n"
     ]
    }
   ],
   "source": [
    "list_array_b2 = np_array_b2.tolist()\n",
    "print(list_array_b2, type(list_array_b2))"
   ]
  },
  {
   "cell_type": "code",
   "execution_count": 44,
   "id": "e43fe918",
   "metadata": {},
   "outputs": [
    {
     "data": {
      "text/plain": [
       "([0.1, 0.2], [0.4, 0.5])"
      ]
     },
     "execution_count": 44,
     "metadata": {},
     "output_type": "execute_result"
    }
   ],
   "source": [
    "list_array_b2[0][:2], list_array_b2[1][:2]"
   ]
  },
  {
   "cell_type": "code",
   "execution_count": 45,
   "id": "4142361c",
   "metadata": {},
   "outputs": [
    {
     "data": {
      "text/plain": [
       "array([[0.1, 0.3],\n",
       "       [0.4, 0.6]])"
      ]
     },
     "execution_count": 45,
     "metadata": {},
     "output_type": "execute_result"
    }
   ],
   "source": [
    "np_array_b2[:, 0::2]"
   ]
  },
  {
   "cell_type": "code",
   "execution_count": 46,
   "id": "a9e58936",
   "metadata": {},
   "outputs": [
    {
     "data": {
      "text/plain": [
       "(array([0.1, 0.2, 0.3]),\n",
       " array([0.1, 0.2, 0.3]),\n",
       " array([0.1, 0.2, 0.3]),\n",
       " array([0.1, 0.2, 0.3]))"
      ]
     },
     "execution_count": 46,
     "metadata": {},
     "output_type": "execute_result"
    }
   ],
   "source": [
    "np_array_b2[0], np_array_b2[0,], np_array_b2[0, :], np_array_b2[0, [0, 1, 2]]"
   ]
  },
  {
   "cell_type": "code",
   "execution_count": 47,
   "id": "d472fc58",
   "metadata": {},
   "outputs": [
    {
     "data": {
      "text/plain": [
       "(array([[0.1, 0.3],\n",
       "        [0.4, 0.6]]),\n",
       " array([[0.1, 0.3],\n",
       "        [0.4, 0.6]]))"
      ]
     },
     "execution_count": 47,
     "metadata": {},
     "output_type": "execute_result"
    }
   ],
   "source": [
    "np_array_b2[:, [0, 2]], np_array_b2[:, ::2]"
   ]
  },
  {
   "cell_type": "code",
   "execution_count": 48,
   "id": "4a8a44cf",
   "metadata": {},
   "outputs": [
    {
     "data": {
      "text/plain": [
       "array([[0.1, 0.4],\n",
       "       [0.3, 0.6]])"
      ]
     },
     "execution_count": 48,
     "metadata": {},
     "output_type": "execute_result"
    }
   ],
   "source": [
    "a = np_array_b2[:, 0]\n",
    "b = np_array_b2[:, 2]\n",
    "np.array([a, b])"
   ]
  },
  {
   "cell_type": "code",
   "execution_count": 49,
   "id": "8cd052cb",
   "metadata": {},
   "outputs": [
    {
     "name": "stdout",
     "output_type": "stream",
     "text": [
      "[[  9   3   1   5   1   3   2   3   4  10   3   2]\n",
      " [ 19   3   1  50  13   1  21  13   4  10   0   2]\n",
      " [100   2   3   3   9   3   4   3   1   1   2   0]]\n"
     ]
    }
   ],
   "source": [
    "np_array_c2 = np_array_a3.reshape((3, 12))\n",
    "print(np_array_c2)"
   ]
  },
  {
   "cell_type": "code",
   "execution_count": 50,
   "id": "25a21ced",
   "metadata": {},
   "outputs": [
    {
     "data": {
      "text/plain": [
       "array([[  9,   1,   1,   2,   4,   3],\n",
       "       [ 19,   1,  13,  21,   4,   0],\n",
       "       [100,   3,   9,   4,   1,   2]])"
      ]
     },
     "execution_count": 50,
     "metadata": {},
     "output_type": "execute_result"
    }
   ],
   "source": [
    "np_array_c2[:, ::2]"
   ]
  },
  {
   "cell_type": "code",
   "execution_count": 51,
   "id": "3bdcadc9",
   "metadata": {},
   "outputs": [
    {
     "data": {
      "text/plain": [
       "array([ 9,  3,  3,  3,  3,  3, 21,  0,  3,  3,  9,  3,  3,  0])"
      ]
     },
     "execution_count": 51,
     "metadata": {},
     "output_type": "execute_result"
    }
   ],
   "source": [
    "np_array_c2[np_array_c2 % 3 == 0]"
   ]
  },
  {
   "cell_type": "code",
   "execution_count": 52,
   "id": "4c57de5c",
   "metadata": {},
   "outputs": [
    {
     "data": {
      "text/plain": [
       "(array([2, 4, 6, 8]), array([2, 6, 8]), array([2, 6, 8]))"
      ]
     },
     "execution_count": 52,
     "metadata": {},
     "output_type": "execute_result"
    }
   ],
   "source": [
    "np_array_a1, np_array_a1[[True, False, True, True]], np_array_a1[[0, 2, 3]]"
   ]
  },
  {
   "cell_type": "code",
   "execution_count": 53,
   "id": "f50cae41",
   "metadata": {},
   "outputs": [
    {
     "data": {
      "text/plain": [
       "array([[ True,  True, False, False, False,  True, False,  True, False,\n",
       "        False,  True, False],\n",
       "       [False,  True, False, False, False, False,  True, False, False,\n",
       "        False,  True, False],\n",
       "       [False, False,  True,  True,  True,  True, False,  True, False,\n",
       "        False, False,  True]])"
      ]
     },
     "execution_count": 53,
     "metadata": {},
     "output_type": "execute_result"
    }
   ],
   "source": [
    "np_array_c2 % 3 == 0"
   ]
  },
  {
   "cell_type": "code",
   "execution_count": 54,
   "id": "3c54bd6b",
   "metadata": {},
   "outputs": [
    {
     "data": {
      "text/plain": [
       "array([[  9,   3,   1,   5,   1,   3,   2,   3,   4,  10,   3,   2],\n",
       "       [ 19,   3,   1,  50,  13,   1,  21,  13,   4,  10,   0,   2],\n",
       "       [100,   2,   3,   3,   9,   3,   4,   3,   1,   1,   2,   0],\n",
       "       [  9,   3,   1,   5,   1,   3,   2,   3,   4,  10,   3,   2],\n",
       "       [ 19,   3,   1,  50,  13,   1,  21,  13,   4,  10,   0,   2],\n",
       "       [100,   2,   3,   3,   9,   3,   4,   3,   1,   1,   2,   0],\n",
       "       [  9,   3,   1,   5,   1,   3,   2,   3,   4,  10,   3,   2],\n",
       "       [ 19,   3,   1,  50,  13,   1,  21,  13,   4,  10,   0,   2],\n",
       "       [100,   2,   3,   3,   9,   3,   4,   3,   1,   1,   2,   0]])"
      ]
     },
     "execution_count": 54,
     "metadata": {},
     "output_type": "execute_result"
    }
   ],
   "source": [
    "np.append(np.append(np_array_c2, np_array_c2, axis=0), np_array_c2, axis=0)"
   ]
  },
  {
   "cell_type": "code",
   "execution_count": 55,
   "id": "d9e21b45",
   "metadata": {},
   "outputs": [
    {
     "data": {
      "text/plain": [
       "array([[  9,   3,   1,   5,   1,   3,   2,   3,   4,  10,   3,   2],\n",
       "       [ 19,   3,   1,  50,  13,   1,  21,  13,   4,  10,   0,   2],\n",
       "       [100,   2,   3,   3,   9,   3,   4,   3,   1,   1,   2,   0],\n",
       "       [  9,   3,   1,   5,   1,   3,   2,   3,   4,  10,   3,   2],\n",
       "       [ 19,   3,   1,  50,  13,   1,  21,  13,   4,  10,   0,   2],\n",
       "       [100,   2,   3,   3,   9,   3,   4,   3,   1,   1,   2,   0],\n",
       "       [  9,   3,   1,   5,   1,   3,   2,   3,   4,  10,   3,   2],\n",
       "       [ 19,   3,   1,  50,  13,   1,  21,  13,   4,  10,   0,   2],\n",
       "       [100,   2,   3,   3,   9,   3,   4,   3,   1,   1,   2,   0],\n",
       "       [  9,   3,   1,   5,   1,   3,   2,   3,   4,  10,   3,   2],\n",
       "       [ 19,   3,   1,  50,  13,   1,  21,  13,   4,  10,   0,   2],\n",
       "       [100,   2,   3,   3,   9,   3,   4,   3,   1,   1,   2,   0],\n",
       "       [  9,   3,   1,   5,   1,   3,   2,   3,   4,  10,   3,   2],\n",
       "       [ 19,   3,   1,  50,  13,   1,  21,  13,   4,  10,   0,   2],\n",
       "       [100,   2,   3,   3,   9,   3,   4,   3,   1,   1,   2,   0]])"
      ]
     },
     "execution_count": 55,
     "metadata": {},
     "output_type": "execute_result"
    }
   ],
   "source": [
    "np.concatenate((np_array_c2, np_array_c2, np_array_c2, np_array_c2, np_array_c2), axis=0)"
   ]
  },
  {
   "cell_type": "code",
   "execution_count": 56,
   "id": "4c1fb93f",
   "metadata": {},
   "outputs": [
    {
     "data": {
      "text/plain": [
       "array([[ 18,   6,   2,  10,   2,   6,   4,   6,   8,  20,   6,   4],\n",
       "       [ 38,   6,   2, 100,  26,   2,  42,  26,   8,  20,   0,   4],\n",
       "       [200,   4,   6,   6,  18,   6,   8,   6,   2,   2,   4,   0]])"
      ]
     },
     "execution_count": 56,
     "metadata": {},
     "output_type": "execute_result"
    }
   ],
   "source": [
    "np_array_c2 + np_array_c2"
   ]
  },
  {
   "cell_type": "code",
   "execution_count": 57,
   "id": "716eba08",
   "metadata": {},
   "outputs": [
    {
     "data": {
      "text/plain": [
       "array([[0, 0, 0, 0, 0, 0, 0, 0, 0, 0, 0, 0],\n",
       "       [0, 0, 0, 0, 0, 0, 0, 0, 0, 0, 0, 0],\n",
       "       [0, 0, 0, 0, 0, 0, 0, 0, 0, 0, 0, 0]])"
      ]
     },
     "execution_count": 57,
     "metadata": {},
     "output_type": "execute_result"
    }
   ],
   "source": [
    "np_array_c2 - np_array_c2"
   ]
  },
  {
   "cell_type": "code",
   "execution_count": 58,
   "id": "f5bc9d5a",
   "metadata": {},
   "outputs": [
    {
     "name": "stderr",
     "output_type": "stream",
     "text": [
      "<ipython-input-58-cd24c6aff44e>:1: RuntimeWarning: invalid value encountered in true_divide\n",
      "  np_array_c2 / np_array_c2\n"
     ]
    },
    {
     "data": {
      "text/plain": [
       "array([[ 1.,  1.,  1.,  1.,  1.,  1.,  1.,  1.,  1.,  1.,  1.,  1.],\n",
       "       [ 1.,  1.,  1.,  1.,  1.,  1.,  1.,  1.,  1.,  1., nan,  1.],\n",
       "       [ 1.,  1.,  1.,  1.,  1.,  1.,  1.,  1.,  1.,  1.,  1., nan]])"
      ]
     },
     "execution_count": 58,
     "metadata": {},
     "output_type": "execute_result"
    }
   ],
   "source": [
    "np_array_c2 / np_array_c2"
   ]
  },
  {
   "cell_type": "code",
   "execution_count": 59,
   "id": "72a0e69a",
   "metadata": {},
   "outputs": [
    {
     "data": {
      "text/plain": [
       "array([[   81,     9,     1,    25,     1,     9,     4,     9,    16,\n",
       "          100,     9,     4],\n",
       "       [  361,     9,     1,  2500,   169,     1,   441,   169,    16,\n",
       "          100,     0,     4],\n",
       "       [10000,     4,     9,     9,    81,     9,    16,     9,     1,\n",
       "            1,     4,     0]])"
      ]
     },
     "execution_count": 59,
     "metadata": {},
     "output_type": "execute_result"
    }
   ],
   "source": [
    "np_array_c2 * np_array_c2"
   ]
  },
  {
   "cell_type": "code",
   "execution_count": 60,
   "id": "32ffa543",
   "metadata": {},
   "outputs": [
    {
     "data": {
      "text/plain": [
       "array([[ 18,   6,   2,  10,   2,   6,   4,   6,   8,  20,   6,   4],\n",
       "       [ 38,   6,   2, 100,  26,   2,  42,  26,   8,  20,   0,   4],\n",
       "       [200,   4,   6,   6,  18,   6,   8,   6,   2,   2,   4,   0]])"
      ]
     },
     "execution_count": 60,
     "metadata": {},
     "output_type": "execute_result"
    }
   ],
   "source": [
    "np_array_c2 * 2"
   ]
  },
  {
   "cell_type": "code",
   "execution_count": 61,
   "id": "462200e5",
   "metadata": {},
   "outputs": [
    {
     "data": {
      "text/plain": [
       "array([[ 4.5,  1.5,  0.5,  2.5,  0.5,  1.5,  1. ,  1.5,  2. ,  5. ,  1.5,\n",
       "         1. ],\n",
       "       [ 9.5,  1.5,  0.5, 25. ,  6.5,  0.5, 10.5,  6.5,  2. ,  5. ,  0. ,\n",
       "         1. ],\n",
       "       [50. ,  1. ,  1.5,  1.5,  4.5,  1.5,  2. ,  1.5,  0.5,  0.5,  1. ,\n",
       "         0. ]])"
      ]
     },
     "execution_count": 61,
     "metadata": {},
     "output_type": "execute_result"
    }
   ],
   "source": [
    "np_array_c2 / 2"
   ]
  },
  {
   "cell_type": "code",
   "execution_count": 62,
   "id": "6672fd0e",
   "metadata": {},
   "outputs": [
    {
     "data": {
      "text/plain": [
       "array([[ 11,   5,   3,   7,   3,   5,   4,   5,   6,  12,   5,   4],\n",
       "       [ 21,   5,   3,  52,  15,   3,  23,  15,   6,  12,   2,   4],\n",
       "       [103,   5,   6,   6,  12,   6,   7,   6,   4,   4,   5,   3]])"
      ]
     },
     "execution_count": 62,
     "metadata": {},
     "output_type": "execute_result"
    }
   ],
   "source": [
    "np_array_c2 + np.array([[2], [2], [3]])"
   ]
  },
  {
   "cell_type": "code",
   "execution_count": 63,
   "id": "1d0a5026",
   "metadata": {},
   "outputs": [
    {
     "data": {
      "text/plain": [
       "array([[ 18,   6,   2,  10,   2,   6,   4,   6,   8,  20,   6,   4],\n",
       "       [ 28,   6,   2,  55,  14,   4,  23,  16,   8,  20,   3,   4],\n",
       "       [109,   5,   4,   8,  10,   6,   6,   6,   5,  11,   5,   2]])"
      ]
     },
     "execution_count": 63,
     "metadata": {},
     "output_type": "execute_result"
    }
   ],
   "source": [
    "np_array_c2 + np_array_c2[0]"
   ]
  },
  {
   "cell_type": "code",
   "execution_count": 64,
   "id": "b53b5f0e",
   "metadata": {},
   "outputs": [
    {
     "name": "stdout",
     "output_type": "stream",
     "text": [
      "[[ 9  3  1  5  1  3  2  3  4 10  3  2]\n",
      " [ 9  3  1  5  1  3  2  3  4 10  3  2]\n",
      " [ 9  3  1  5  1  3  2  3  4 10  3  2]]\n"
     ]
    }
   ],
   "source": [
    "broadcasted_c2 = np.array([np_array_c2[0].tolist(), np_array_c2[0].tolist(), np_array_c2[0].tolist()])\n",
    "print(broadcasted_c2)"
   ]
  },
  {
   "cell_type": "code",
   "execution_count": 65,
   "id": "8d7d642b",
   "metadata": {},
   "outputs": [
    {
     "data": {
      "text/plain": [
       "array([[ 18,   6,   2,  10,   2,   6,   4,   6,   8,  20,   6,   4],\n",
       "       [ 28,   6,   2,  55,  14,   4,  23,  16,   8,  20,   3,   4],\n",
       "       [109,   5,   4,   8,  10,   6,   6,   6,   5,  11,   5,   2]])"
      ]
     },
     "execution_count": 65,
     "metadata": {},
     "output_type": "execute_result"
    }
   ],
   "source": [
    "np_array_c2 + broadcasted_c2"
   ]
  },
  {
   "cell_type": "code",
   "execution_count": 66,
   "id": "2b686c7a",
   "metadata": {},
   "outputs": [
    {
     "data": {
      "text/plain": [
       "array([ 9,  3,  1,  5,  1,  3,  2,  3,  4, 10,  3,  2])"
      ]
     },
     "execution_count": 66,
     "metadata": {},
     "output_type": "execute_result"
    }
   ],
   "source": [
    "np_array_c2[0]"
   ]
  },
  {
   "cell_type": "code",
   "execution_count": 67,
   "id": "277418fd",
   "metadata": {},
   "outputs": [
    {
     "data": {
      "text/plain": [
       "array([[  9,   3,   1,   5,   1,   3,   2,   3,   4,  10,   3,   2],\n",
       "       [ 19,   3,   1,  50,  13,   1,  21,  13,   4,  10,   0,   2],\n",
       "       [100,   2,   3,   3,   9,   3,   4,   3,   1,   1,   2,   0]])"
      ]
     },
     "execution_count": 67,
     "metadata": {},
     "output_type": "execute_result"
    }
   ],
   "source": [
    "np_array_c2"
   ]
  },
  {
   "cell_type": "code",
   "execution_count": 68,
   "id": "ec984dac",
   "metadata": {},
   "outputs": [
    {
     "name": "stdout",
     "output_type": "stream",
     "text": [
      "100\n",
      "[ 10  50 100]\n",
      "[100   3   3  50  13   3  21  13   4  10   3   2]\n",
      "[[ 10]\n",
      " [ 50]\n",
      " [100]]\n",
      "[[100   3   3  50  13   3  21  13   4  10   3   2]]\n"
     ]
    }
   ],
   "source": [
    "print(np_array_c2.max())\n",
    "print(np_array_c2.max(axis=1))\n",
    "print(np_array_c2.max(axis=0))\n",
    "print(np_array_c2.max(axis=1, keepdims=True))\n",
    "print(np_array_c2.max(axis=0, keepdims=True))"
   ]
  },
  {
   "cell_type": "code",
   "execution_count": 69,
   "id": "88b51ec8",
   "metadata": {},
   "outputs": [
    {
     "data": {
      "text/plain": [
       "array([[1, 2, 3],\n",
       "       [4, 5, 6]])"
      ]
     },
     "execution_count": 69,
     "metadata": {},
     "output_type": "execute_result"
    }
   ],
   "source": [
    "np_array_a2"
   ]
  },
  {
   "cell_type": "markdown",
   "id": "f6416bea",
   "metadata": {},
   "source": [
    "Dot Product"
   ]
  },
  {
   "cell_type": "code",
   "execution_count": 70,
   "id": "0a0bd6fd",
   "metadata": {},
   "outputs": [
    {
     "ename": "ValueError",
     "evalue": "shapes (2,3) and (2,3) not aligned: 3 (dim 1) != 2 (dim 0)",
     "output_type": "error",
     "traceback": [
      "\u001b[1;31m---------------------------------------------------------------------------\u001b[0m",
      "\u001b[1;31mValueError\u001b[0m                                Traceback (most recent call last)",
      "\u001b[1;32m<ipython-input-70-b258034cb46f>\u001b[0m in \u001b[0;36m<module>\u001b[1;34m\u001b[0m\n\u001b[1;32m----> 1\u001b[1;33m \u001b[0mnp\u001b[0m\u001b[1;33m.\u001b[0m\u001b[0mdot\u001b[0m\u001b[1;33m(\u001b[0m\u001b[0mnp_array_a2\u001b[0m\u001b[1;33m,\u001b[0m \u001b[0mnp_array_a2\u001b[0m\u001b[1;33m)\u001b[0m\u001b[1;33m\u001b[0m\u001b[1;33m\u001b[0m\u001b[0m\n\u001b[0m",
      "\u001b[1;32m<__array_function__ internals>\u001b[0m in \u001b[0;36mdot\u001b[1;34m(*args, **kwargs)\u001b[0m\n",
      "\u001b[1;31mValueError\u001b[0m: shapes (2,3) and (2,3) not aligned: 3 (dim 1) != 2 (dim 0)"
     ]
    }
   ],
   "source": [
    "np.dot(np_array_a2, np_array_a2)"
   ]
  },
  {
   "cell_type": "code",
   "execution_count": 71,
   "id": "1a89eb3d",
   "metadata": {},
   "outputs": [
    {
     "data": {
      "text/plain": [
       "(array([[1, 4],\n",
       "        [2, 5],\n",
       "        [3, 6]]),\n",
       " array([[1, 4],\n",
       "        [2, 5],\n",
       "        [3, 6]]))"
      ]
     },
     "execution_count": 71,
     "metadata": {},
     "output_type": "execute_result"
    }
   ],
   "source": [
    "np_array_a2.transpose(), np_array_a2.T"
   ]
  },
  {
   "cell_type": "code",
   "execution_count": 72,
   "id": "25734448",
   "metadata": {},
   "outputs": [
    {
     "data": {
      "text/plain": [
       "array([[14, 32],\n",
       "       [32, 77]])"
      ]
     },
     "execution_count": 72,
     "metadata": {},
     "output_type": "execute_result"
    }
   ],
   "source": [
    "np.dot(np_array_a2, np_array_a2.T)"
   ]
  },
  {
   "cell_type": "code",
   "execution_count": 73,
   "id": "3f4e6bf5",
   "metadata": {},
   "outputs": [
    {
     "data": {
      "text/plain": [
       "array([[14, 32],\n",
       "       [32, 77]])"
      ]
     },
     "execution_count": 73,
     "metadata": {},
     "output_type": "execute_result"
    }
   ],
   "source": [
    "np_array_a2.dot(np_array_a2.T)"
   ]
  },
  {
   "cell_type": "code",
   "execution_count": 74,
   "id": "7d4d4343",
   "metadata": {},
   "outputs": [
    {
     "data": {
      "text/plain": [
       "array([[14, 32],\n",
       "       [32, 77]])"
      ]
     },
     "execution_count": 74,
     "metadata": {},
     "output_type": "execute_result"
    }
   ],
   "source": [
    "np.matmul(np_array_a2, np_array_a2.T)"
   ]
  },
  {
   "cell_type": "markdown",
   "id": "0c98ac68",
   "metadata": {},
   "source": [
    "Flatten N-Dimensional Array"
   ]
  },
  {
   "cell_type": "code",
   "execution_count": 75,
   "id": "40184091",
   "metadata": {},
   "outputs": [
    {
     "data": {
      "text/plain": [
       "array([1, 2, 3, 4, 5, 6])"
      ]
     },
     "execution_count": 75,
     "metadata": {},
     "output_type": "execute_result"
    }
   ],
   "source": [
    "np_array_a2.flatten()"
   ]
  },
  {
   "cell_type": "code",
   "execution_count": 76,
   "id": "8beb038a",
   "metadata": {},
   "outputs": [
    {
     "data": {
      "text/plain": [
       "array([  9,   3,   1,   5,   1,   3,   2,   3,   4,  10,   3,   2,  19,\n",
       "         3,   1,  50,  13,   1,  21,  13,   4,  10,   0,   2, 100,   2,\n",
       "         3,   3,   9,   3,   4,   3,   1,   1,   2,   0])"
      ]
     },
     "execution_count": 76,
     "metadata": {},
     "output_type": "execute_result"
    }
   ],
   "source": [
    "np_array_a3.flatten()"
   ]
  },
  {
   "cell_type": "code",
   "execution_count": 77,
   "id": "8a80230e",
   "metadata": {},
   "outputs": [
    {
     "data": {
      "text/plain": [
       "array([[[21, 50, 83],\n",
       "        [29, 24, 56]],\n",
       "\n",
       "       [[46, 25, 60],\n",
       "        [71, 81, 17]]])"
      ]
     },
     "execution_count": 77,
     "metadata": {},
     "output_type": "execute_result"
    }
   ],
   "source": [
    "np.random.randint(10, 100, size=(2, 2, 3))"
   ]
  },
  {
   "cell_type": "code",
   "execution_count": 78,
   "id": "72621aa6",
   "metadata": {},
   "outputs": [
    {
     "data": {
      "text/plain": [
       "(None, nan, float)"
      ]
     },
     "execution_count": 78,
     "metadata": {},
     "output_type": "execute_result"
    }
   ],
   "source": [
    "None, np.nan, type(np.nan)"
   ]
  },
  {
   "cell_type": "code",
   "execution_count": 79,
   "id": "4b74dd40",
   "metadata": {},
   "outputs": [
    {
     "data": {
      "text/plain": [
       "(False, False, True)"
      ]
     },
     "execution_count": 79,
     "metadata": {},
     "output_type": "execute_result"
    }
   ],
   "source": [
    "bool(\"\"), bool(None), bool(np.nan)"
   ]
  },
  {
   "cell_type": "code",
   "execution_count": null,
   "id": "b931ebfa",
   "metadata": {},
   "outputs": [],
   "source": []
  }
 ],
 "metadata": {
  "interpreter": {
   "hash": "ecf5722fdaf1897a315d257d89d94520bfcaa453217d5becf09b39e73618b0de"
  },
  "kernelspec": {
   "display_name": "Python 3",
   "language": "python",
   "name": "python3"
  },
  "language_info": {
   "codemirror_mode": {
    "name": "ipython",
    "version": 3
   },
   "file_extension": ".py",
   "mimetype": "text/x-python",
   "name": "python",
   "nbconvert_exporter": "python",
   "pygments_lexer": "ipython3",
   "version": "3.9.4"
  },
  "toc": {
   "base_numbering": 1,
   "nav_menu": {},
   "number_sections": false,
   "sideBar": true,
   "skip_h1_title": true,
   "title_cell": "Table of Contents",
   "title_sidebar": "Contents",
   "toc_cell": false,
   "toc_position": {},
   "toc_section_display": true,
   "toc_window_display": true
  }
 },
 "nbformat": 4,
 "nbformat_minor": 5
}
