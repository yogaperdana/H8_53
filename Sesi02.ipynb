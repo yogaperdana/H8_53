{
 "cells": [
  {
   "cell_type": "markdown",
   "id": "54009994",
   "metadata": {},
   "source": [
    "# Percabangan dan Perulangan\n",
    "\n",
    "**Introduction to Python for Data Science** \\\n",
    "Course with Hacktiv8\n",
    "\n",
    "***\n",
    "\n",
    "**Sesi 2**\n",
    "\n",
    "Kamis, 29 April 2021 • 19:00 - 22:00 WIB\n",
    "\n",
    "- Kondisional\n",
    "- *Control Flow*\n",
    "- Perulangan\n",
    "\n",
    "***"
   ]
  },
  {
   "cell_type": "markdown",
   "id": "f05fcefa",
   "metadata": {},
   "source": [
    "## Kondisional\n",
    "\n",
    "Kondisi logikal:\n",
    "\n",
    "- Sama dengan: `a == b`\n",
    "- Tidak sama dengan: `a != b`\n",
    "- Kurang dari: `a < b`\n",
    "- Kurang dari atau sama dengan: `a <= b`\n",
    "- Lebih dari: `a > b`\n",
    "- Lebih dari atau sama dengan: `a >= b `\n",
    "\n",
    "Melakukan _decision-making_ menggunakan `if` _statement_:\n",
    "\n",
    "```\n",
    "if <expression>:\n",
    "    <statement>\n",
    "    <statement>\n",
    "    ...\n",
    "    <statement>\n",
    "\n",
    "<following statement after conditional>\n",
    "```"
   ]
  },
  {
   "cell_type": "code",
   "execution_count": 1,
   "id": "192bb70d",
   "metadata": {},
   "outputs": [
    {
     "name": "stdout",
     "output_type": "stream",
     "text": [
      "1. Yes! 0 < 50\n",
      "4. Yes!\n"
     ]
    }
   ],
   "source": [
    "x = 0\n",
    "y = 50\n",
    "\n",
    "if x < y:\n",
    "    print(f\"1. Yes! {x} < {y}\")\n",
    "\n",
    "if y < x:\n",
    "    print(\"2. Yes! {} < {}\".format(x, y))\n",
    "\n",
    "if x:\n",
    "    print(\"3. Yes?\")\n",
    "\n",
    "if y:\n",
    "    print(\"4. Yes!\")"
   ]
  },
  {
   "cell_type": "code",
   "execution_count": 2,
   "id": "499e4bd1",
   "metadata": {},
   "outputs": [
    {
     "name": "stdout",
     "output_type": "stream",
     "text": [
      "name: Satya is in others\n",
      "SatyaSatyaSatya\n"
     ]
    }
   ],
   "source": [
    "others = [\"Satya\", \"Richard\", \"Stefani\", \"Timotius\", \"Veronica\", \"Viony\", \"Yoga\"]\n",
    "z1 = \"satya\"\n",
    "z2 = \"Satya\"\n",
    "\n",
    "if z1 in others:\n",
    "    print(f\"name: {z1} is in others\")\n",
    "\n",
    "if z2 in others:\n",
    "    print(f\"name: {z2} is in others\")\n",
    "    print(z2 * 3)"
   ]
  },
  {
   "cell_type": "markdown",
   "id": "348c0dd9",
   "metadata": {},
   "source": [
    "_Nested conditional blocks_:"
   ]
  },
  {
   "cell_type": "code",
   "execution_count": 3,
   "id": "eb56eac8",
   "metadata": {},
   "outputs": [
    {
     "name": "stdout",
     "output_type": "stream",
     "text": [
      "Outer condition is true\n",
      "Between inner conditions\n",
      "Inner condition 2\n",
      "End of outer condition\n",
      "After outer condition\n"
     ]
    }
   ],
   "source": [
    "# Does line execute?                        Yes    No\n",
    "#                                           ---    --\n",
    "if 'foo' in ['foo', 'bar', 'baz']:        #  x\n",
    "    print('Outer condition is true')      #  x\n",
    "\n",
    "    if 10 > 20:                           #  x\n",
    "        print('Inner condition 1')        #        x\n",
    "\n",
    "    print('Between inner conditions')     #  x\n",
    "\n",
    "    if 10 < 20:                           #  x\n",
    "        print('Inner condition 2')        #  x\n",
    "\n",
    "    print('End of outer condition')       #  x\n",
    "print('After outer condition')            #  x"
   ]
  },
  {
   "cell_type": "markdown",
   "id": "af386e7d",
   "metadata": {},
   "source": [
    "Klausa `else` dan `elif`:\n",
    "\n",
    "```\n",
    "if <expression>:\n",
    "    <statement(s)>\n",
    "else:\n",
    "    <statement(s)>\n",
    "```\n",
    "\n",
    "dengan `elif` (_else if_):\n",
    "```\n",
    "if <first expression>:\n",
    "    <statement(s) for first expr.>\n",
    "elif <second expression>:\n",
    "    <statement(s) for second expr.>\n",
    "elif <third expression>:\n",
    "    <statement(s) for third expr.>\n",
    "...\n",
    "else:\n",
    "    <statement(s)>\n",
    "```"
   ]
  },
  {
   "cell_type": "code",
   "execution_count": 4,
   "id": "c6a223f2",
   "metadata": {},
   "outputs": [
    {
     "name": "stdout",
     "output_type": "stream",
     "text": [
      "just buy magazines\n",
      "just buy magazines\n"
     ]
    }
   ],
   "source": [
    "book_price = 1000\n",
    "mag_price = 500\n",
    "money = 600\n",
    "\n",
    "if money >= book_price:\n",
    "    print(\"let's buy a book\")\n",
    "elif money >= mag_price:\n",
    "    print(\"just buy magazines\")\n",
    "else:\n",
    "    print(\"let's collect more money\")\n",
    "\n",
    "if money >= mag_price:\n",
    "    print(\"just buy magazines\")\n",
    "elif money >= book_price:\n",
    "    print(\"let's buy a book\")\n",
    "else:\n",
    "    print(\"let's collect more money\")"
   ]
  },
  {
   "cell_type": "code",
   "execution_count": 5,
   "id": "debf47fc",
   "metadata": {},
   "outputs": [
    {
     "name": "stdout",
     "output_type": "stream",
     "text": [
      "remedy\n"
     ]
    }
   ],
   "source": [
    "min_score = .7\n",
    "score = .65\n",
    "\n",
    "if score > min_score:\n",
    "    print(\"success\")\n",
    "else:\n",
    "    print(\"remedy\")"
   ]
  },
  {
   "cell_type": "markdown",
   "id": "34fbba82",
   "metadata": {},
   "source": [
    "One-Line If Statements\n",
    "\n",
    "`if <expression>: <statement>`\n",
    "\n",
    "`if <expression>: <statement 1>; <statement 2>; ...; <statement n>`"
   ]
  },
  {
   "cell_type": "code",
   "execution_count": 6,
   "id": "8a3d8861",
   "metadata": {},
   "outputs": [
    {
     "name": "stdout",
     "output_type": "stream",
     "text": [
      "qux\n",
      "quux\n"
     ]
    }
   ],
   "source": [
    "x = 2\n",
    "\n",
    "if x == 1: print('foo'); print('bar'); print('baz')\n",
    "elif x == 2: print('qux'); print('quux')\n",
    "else: print('corge'); print('grault')"
   ]
  },
  {
   "cell_type": "markdown",
   "id": "324588a9",
   "metadata": {},
   "source": [
    "Ekspresi Kondisional\n",
    "\n",
    "`<expression 1> if <conditional expression> else <expression 2>`"
   ]
  },
  {
   "cell_type": "code",
   "execution_count": 7,
   "id": "9481d445",
   "metadata": {},
   "outputs": [
    {
     "name": "stdout",
     "output_type": "stream",
     "text": [
      "Let's go to the beach\n"
     ]
    }
   ],
   "source": [
    "raining = False\n",
    "print(\"Let's go to the\", 'beach' if not raining else 'library')"
   ]
  },
  {
   "cell_type": "code",
   "execution_count": 8,
   "id": "fdcae4de",
   "metadata": {},
   "outputs": [
    {
     "name": "stdout",
     "output_type": "stream",
     "text": [
      "teen\n"
     ]
    }
   ],
   "source": [
    "age = 12\n",
    "s = 'teen' if age < 21 else 'adult'\n",
    "print(s)"
   ]
  },
  {
   "cell_type": "code",
   "execution_count": 9,
   "id": "0b020d38",
   "metadata": {},
   "outputs": [
    {
     "data": {
      "text/plain": [
       "'no'"
      ]
     },
     "execution_count": 9,
     "metadata": {},
     "output_type": "execute_result"
    }
   ],
   "source": [
    "'yes' if ('qux' in ['foo', 'bar', 'baz']) else 'no'"
   ]
  },
  {
   "cell_type": "markdown",
   "id": "29390cfd",
   "metadata": {},
   "source": [
    "Pass Statement:"
   ]
  },
  {
   "cell_type": "code",
   "execution_count": 10,
   "id": "46c0707a",
   "metadata": {},
   "outputs": [
    {
     "name": "stdout",
     "output_type": "stream",
     "text": [
      "foo\n"
     ]
    }
   ],
   "source": [
    "if True:\n",
    "    pass\n",
    "print('foo')"
   ]
  },
  {
   "cell_type": "markdown",
   "id": "645fc0fb",
   "metadata": {},
   "source": [
    "## Perulangan `while`:\n",
    "\n",
    "```\n",
    "while <expression>:\n",
    "    <statement(s)\n",
    "```"
   ]
  },
  {
   "cell_type": "code",
   "execution_count": 11,
   "id": "ef789ccd",
   "metadata": {},
   "outputs": [
    {
     "name": "stdout",
     "output_type": "stream",
     "text": [
      "1 less than 7\n",
      "1 less than 7\n",
      "1 less than 7\n",
      "1 less than 7\n",
      "1 less than 7\n",
      "1 less than 7\n"
     ]
    }
   ],
   "source": [
    "score = 1\n",
    "min_score = 7\n",
    "\n",
    "if score < min_score:\n",
    "    print(score, \"less than {}\".format(min_score))\n",
    "    print(score, \"less than {}\".format(min_score))\n",
    "    print(score, \"less than {}\".format(min_score))\n",
    "    print(score, \"less than {}\".format(min_score))\n",
    "    print(score, \"less than {}\".format(min_score))\n",
    "    print(score, \"less than {}\".format(min_score))"
   ]
  },
  {
   "cell_type": "code",
   "execution_count": 12,
   "id": "097aaba7",
   "metadata": {},
   "outputs": [
    {
     "name": "stdout",
     "output_type": "stream",
     "text": [
      "1 less than 7\n",
      "2 less than 7\n",
      "3 less than 7\n",
      "4 less than 7\n",
      "5 less than 7\n",
      "6 less than 7\n"
     ]
    }
   ],
   "source": [
    "while score < min_score:\n",
    "    print(score, \"less than {}\".format(min_score))\n",
    "    score = score + 1"
   ]
  },
  {
   "cell_type": "code",
   "execution_count": 13,
   "id": "e9f3d2df",
   "metadata": {},
   "outputs": [
    {
     "name": "stdout",
     "output_type": "stream",
     "text": [
      "0 name: Adit\n",
      "1 name: Bagus\n",
      "2 name: Daniel\n",
      "3 name: Dezenia\n",
      "4 name: Ilham\n",
      "5 name: Maria\n",
      "6 name: Yusuf\n"
     ]
    }
   ],
   "source": [
    "names = [\"Adit\", \"Bagus\", \"Daniel\", \"Dezenia\", \"Ilham\", \"Maria\", \"Yusuf\"]\n",
    "\n",
    "idx = 0\n",
    "while idx < len(names):\n",
    "    print(idx, 'name:', names[idx])\n",
    "    idx = idx + 1"
   ]
  },
  {
   "cell_type": "markdown",
   "id": "e2cd5042",
   "metadata": {},
   "source": [
    "Statement `break` dan `continue` pada perulangan `while`:"
   ]
  },
  {
   "cell_type": "code",
   "execution_count": 14,
   "id": "63545268",
   "metadata": {},
   "outputs": [
    {
     "name": "stdout",
     "output_type": "stream",
     "text": [
      "4\n",
      "3\n",
      "Loop ended.\n"
     ]
    }
   ],
   "source": [
    "n = 5\n",
    "while n > 0:\n",
    "    n -= 1\n",
    "    if n == 2:\n",
    "        break\n",
    "    print(n)\n",
    "print('Loop ended.')"
   ]
  },
  {
   "cell_type": "code",
   "execution_count": 15,
   "id": "ac0d813a",
   "metadata": {},
   "outputs": [
    {
     "name": "stdout",
     "output_type": "stream",
     "text": [
      "4\n",
      "3\n",
      "1\n",
      "0\n",
      "Loop ended.\n"
     ]
    }
   ],
   "source": [
    "n = 5\n",
    "while n > 0:\n",
    "    n -= 1\n",
    "    if n == 2:\n",
    "        continue\n",
    "    print(n)\n",
    "print('Loop ended.')"
   ]
  },
  {
   "cell_type": "code",
   "execution_count": 16,
   "id": "2b5763c6",
   "metadata": {},
   "outputs": [
    {
     "name": "stdout",
     "output_type": "stream",
     "text": [
      "0 name: Adit\n",
      "1 name: Bagus\n",
      "2 name: Daniel\n",
      "4 name: Ilham\n",
      "5 name: Maria\n"
     ]
    }
   ],
   "source": [
    "idx = 0\n",
    "while idx < len(names):\n",
    "    if (idx % 3 == 0) and (idx != 0):\n",
    "        idx = idx + 1\n",
    "        continue\n",
    "    print(idx, 'name:', names[idx])\n",
    "    idx = idx + 1"
   ]
  },
  {
   "cell_type": "markdown",
   "id": "8eb36935",
   "metadata": {},
   "source": [
    "Klausa `else` pada perulangan `while`:\n",
    "\n",
    "```\n",
    "while <expression>:\n",
    "    <statement(s)\n",
    "else:\n",
    "    <additional statement(s)\n",
    "```"
   ]
  },
  {
   "cell_type": "code",
   "execution_count": 17,
   "id": "4f64eafd",
   "metadata": {},
   "outputs": [
    {
     "name": "stdout",
     "output_type": "stream",
     "text": [
      "4\n",
      "3\n",
      "2\n",
      "1\n",
      "0\n",
      "Loop done.\n"
     ]
    }
   ],
   "source": [
    "n = 5\n",
    "while n > 0:\n",
    "    n -= 1\n",
    "    print(n)\n",
    "else:\n",
    "    print('Loop done.')"
   ]
  },
  {
   "cell_type": "code",
   "execution_count": 18,
   "id": "8576ff1f",
   "metadata": {},
   "outputs": [
    {
     "name": "stdout",
     "output_type": "stream",
     "text": [
      "4\n",
      "3\n",
      "2\n"
     ]
    }
   ],
   "source": [
    "n = 5\n",
    "while n > 0:\n",
    "    n -= 1\n",
    "    print(n)\n",
    "    if n == 2:\n",
    "        break\n",
    "else:\n",
    "    print('Loop done.')"
   ]
  },
  {
   "cell_type": "markdown",
   "id": "5fdf0394",
   "metadata": {},
   "source": [
    "One-Line While Loops:"
   ]
  },
  {
   "cell_type": "code",
   "execution_count": 19,
   "id": "9f8fd702",
   "metadata": {},
   "outputs": [
    {
     "name": "stdout",
     "output_type": "stream",
     "text": [
      "4\n",
      "3\n",
      "2\n",
      "1\n",
      "0\n"
     ]
    }
   ],
   "source": [
    "n = 5\n",
    "while n > 0: n -= 1; print(n)"
   ]
  },
  {
   "cell_type": "markdown",
   "id": "1f2a44f6",
   "metadata": {},
   "source": [
    "## Perulangan `for`\n",
    "\n",
    "Python hanya mengimplementasikan perulangan berbasis koleksi:\n",
    "\n",
    "```\n",
    "for <variable> in <iterable object>:\n",
    "    <statement(s)>\n",
    "```\n",
    "\n",
    "_Iterable objects_ contohnya: _list/tuple_"
   ]
  },
  {
   "cell_type": "code",
   "execution_count": 20,
   "id": "35f40177",
   "metadata": {},
   "outputs": [
    {
     "name": "stdout",
     "output_type": "stream",
     "text": [
      "1\n",
      "2\n",
      "3\n",
      "4\n",
      "5\n",
      "6\n",
      "7\n",
      "8\n",
      "9\n",
      "10\n"
     ]
    }
   ],
   "source": [
    "for i in [1, 2, 3, 4, 5, 6, 7, 8, 9, 10]:\n",
    "    print(i)"
   ]
  },
  {
   "cell_type": "code",
   "execution_count": 21,
   "id": "67ad4fce",
   "metadata": {},
   "outputs": [
    {
     "name": "stdout",
     "output_type": "stream",
     "text": [
      "Satya\n",
      "Richard\n",
      "Stefani\n",
      "Timotius\n",
      "Veronica\n",
      "Viony\n",
      "Yoga\n"
     ]
    }
   ],
   "source": [
    "for name in others:\n",
    "    print(name)"
   ]
  },
  {
   "cell_type": "code",
   "execution_count": 22,
   "id": "3fdb91c0",
   "metadata": {},
   "outputs": [
    {
     "name": "stdout",
     "output_type": "stream",
     "text": [
      "Yoga Y o g\n"
     ]
    }
   ],
   "source": [
    "print(name, name[0], name[1], name[2])"
   ]
  },
  {
   "cell_type": "code",
   "execution_count": 23,
   "id": "199128b8",
   "metadata": {},
   "outputs": [
    {
     "name": "stdout",
     "output_type": "stream",
     "text": [
      "name: Adit\n",
      "a-d-i-t-\n",
      "name: Bagus\n",
      "b-a-g-u-s-\n",
      "name: Daniel\n",
      "d-a-n-i-e-l-\n",
      "name: Dezenia\n",
      "d-e-z-e-n-i-a-\n",
      "name: Ilham\n",
      "i-l-h-a-m-\n",
      "name: Maria\n",
      "m-a-r-i-a-\n",
      "name: Yusuf\n",
      "y-u-s-u-f-\n"
     ]
    }
   ],
   "source": [
    "for name in names:\n",
    "    print(\"name:\", name)\n",
    "    s = \"\"\n",
    "    for char in name:\n",
    "        s = s + char + \"-\"\n",
    "    print(s.lower())"
   ]
  },
  {
   "cell_type": "code",
   "execution_count": 24,
   "id": "38f6e797",
   "metadata": {},
   "outputs": [
    {
     "name": "stdout",
     "output_type": "stream",
     "text": [
      "foo\n",
      "bar\n",
      "baz\n",
      "1\n",
      "2\n",
      "3\n",
      "1\n",
      "2\n",
      "3\n",
      "foo : 1\n",
      "bar : 2\n",
      "baz : 3\n"
     ]
    }
   ],
   "source": [
    "d = {'foo': 1, 'bar': 2, 'baz': 3}\n",
    "for k in d:\n",
    "    print(k)\n",
    "\n",
    "for k in d:\n",
    "    print(d[k])\n",
    "\n",
    "for k in d.values():\n",
    "    print(k)\n",
    "\n",
    "for k, v in d.items(): \n",
    "    print(k, \":\", v)"
   ]
  },
  {
   "cell_type": "code",
   "execution_count": 25,
   "id": "326247f1",
   "metadata": {},
   "outputs": [
    {
     "name": "stdout",
     "output_type": "stream",
     "text": [
      "{'names': ['harry', 'michael', 'jordan', 'super'], 'age': [18, 33, 24, 40], 'location': ['jakarta', 'bandung', 'surabaya', 'jogja']}\n",
      "dict_keys(['names', 'age', 'location'])\n",
      "dict_values([['harry', 'michael', 'jordan', 'super'], [18, 33, 24, 40], ['jakarta', 'bandung', 'surabaya', 'jogja']])\n"
     ]
    }
   ],
   "source": [
    "profiles = {\n",
    "    \"names\": [\"harry\", \"michael\", \"jordan\", \"super\"],\n",
    "    \"age\": [18, 33, 24, 40],\n",
    "    \"location\": [\"jakarta\", \"bandung\", \"surabaya\", \"jogja\"]\n",
    "}\n",
    "\n",
    "print(profiles)\n",
    "print(profiles.keys())\n",
    "print(profiles.values())"
   ]
  },
  {
   "cell_type": "code",
   "execution_count": 26,
   "id": "b22d560a",
   "metadata": {},
   "outputs": [
    {
     "name": "stdout",
     "output_type": "stream",
     "text": [
      "names - ['harry', 'michael', 'jordan', 'super']\n",
      "age - [18, 33, 24, 40]\n",
      "location - ['jakarta', 'bandung', 'surabaya', 'jogja']\n"
     ]
    }
   ],
   "source": [
    "for key in profiles.keys():\n",
    "    print(key, \"-\", profiles[key])"
   ]
  },
  {
   "cell_type": "code",
   "execution_count": 27,
   "id": "956f930e",
   "metadata": {},
   "outputs": [
    {
     "name": "stdout",
     "output_type": "stream",
     "text": [
      "names - ['harry', 'michael', 'jordan', 'super']\n",
      "age - [18, 33, 24, 40]\n",
      "location - ['jakarta', 'bandung', 'surabaya', 'jogja']\n"
     ]
    }
   ],
   "source": [
    "for key, value in profiles.items():\n",
    "    print(key, \"-\", value)"
   ]
  },
  {
   "cell_type": "code",
   "execution_count": 28,
   "id": "81791a5b",
   "metadata": {},
   "outputs": [
    {
     "name": "stdout",
     "output_type": "stream",
     "text": [
      "names - ['harry', 'michael', 'jordan', 'super']\n",
      "age - [18, 33, 24, 40]\n",
      "location - ['jakarta', 'bandung', 'surabaya', 'jogja']\n",
      "twos - [0, 2, 4, 6]\n",
      "threes - [0, 3, 6, 9]\n",
      "fours - [0, 4, 8, 12]\n",
      "fives - [0, 5, 10, 15]\n",
      "sixes - [0, 6, 12, 18]\n"
     ]
    }
   ],
   "source": [
    "list_keys = [\"twos\", \"threes\", \"fours\", \"fives\", \"sixes\"]\n",
    "multiplier = 2\n",
    "\n",
    "for key in list_keys:\n",
    "    value = []\n",
    "    for i in range(4):\n",
    "        value.append(i * multiplier)\n",
    "    multiplier = multiplier + 1\n",
    "    profiles[key] = value\n",
    "\n",
    "for key, value in profiles.items():\n",
    "    print(key, \"-\", value)"
   ]
  },
  {
   "cell_type": "markdown",
   "id": "f86beafb",
   "metadata": {},
   "source": [
    "Statement `break` dan `continue` pada perulangan `for`:"
   ]
  },
  {
   "cell_type": "code",
   "execution_count": 29,
   "id": "948d9ca5",
   "metadata": {},
   "outputs": [
    {
     "name": "stdout",
     "output_type": "stream",
     "text": [
      "foo\n"
     ]
    }
   ],
   "source": [
    "for i in ['foo', 'bar', 'baz', 'qux']:\n",
    "    if 'b' in i:\n",
    "        break\n",
    "    print(i)"
   ]
  },
  {
   "cell_type": "code",
   "execution_count": 30,
   "id": "b783acac",
   "metadata": {},
   "outputs": [
    {
     "name": "stdout",
     "output_type": "stream",
     "text": [
      "foo\n",
      "qux\n"
     ]
    }
   ],
   "source": [
    "for i in ['foo', 'bar', 'baz', 'qux']:\n",
    "    if 'b' in i:\n",
    "        continue\n",
    "    print(i)"
   ]
  },
  {
   "cell_type": "markdown",
   "id": "bf009e08",
   "metadata": {},
   "source": [
    "Fungsi `range()`:"
   ]
  },
  {
   "cell_type": "code",
   "execution_count": 31,
   "id": "62948f8d",
   "metadata": {},
   "outputs": [
    {
     "name": "stdout",
     "output_type": "stream",
     "text": [
      "0\n",
      "1\n",
      "2\n",
      "3\n",
      "4\n"
     ]
    }
   ],
   "source": [
    "x = range(5)\n",
    "for n in x:\n",
    "    print(n)"
   ]
  },
  {
   "cell_type": "code",
   "execution_count": 32,
   "id": "6ea0257d",
   "metadata": {},
   "outputs": [
    {
     "name": "stdout",
     "output_type": "stream",
     "text": [
      "[0, 1, 2, 3, 4, 5, 6, 7, 8, 9, 10, 11, 12, 13, 14, 15, 16, 17, 18, 19, 20, 21, 22, 23, 24, 25, 26, 27, 28, 29, 30, 31, 32, 33, 34, 35, 36, 37, 38, 39, 40, 41, 42, 43, 44, 45, 46, 47, 48, 49, 50, 51, 52, 53, 54, 55, 56, 57, 58, 59, 60, 61, 62, 63, 64, 65, 66, 67, 68, 69, 70, 71, 72, 73, 74, 75, 76, 77, 78, 79, 80, 81, 82, 83, 84, 85, 86, 87, 88, 89, 90, 91, 92, 93, 94, 95, 96, 97, 98, 99]\n"
     ]
    }
   ],
   "source": [
    "print(list(range(100)))"
   ]
  },
  {
   "cell_type": "code",
   "execution_count": 33,
   "id": "ad47e16c",
   "metadata": {},
   "outputs": [
    {
     "name": "stdout",
     "output_type": "stream",
     "text": [
      "[50, 51, 52, 53, 54, 55, 56, 57, 58, 59, 60, 61, 62, 63, 64, 65, 66, 67, 68, 69, 70, 71, 72, 73, 74]\n"
     ]
    }
   ],
   "source": [
    "print(list(range(50, 75)))"
   ]
  },
  {
   "cell_type": "code",
   "execution_count": 34,
   "id": "f0c09d7f",
   "metadata": {},
   "outputs": [
    {
     "name": "stdout",
     "output_type": "stream",
     "text": [
      "[0, 2, 4, 6, 8, 10, 12, 14, 16, 18, 20, 22, 24, 26, 28, 30, 32, 34, 36, 38, 40, 42, 44, 46, 48, 50, 52, 54, 56, 58, 60, 62, 64, 66, 68, 70, 72, 74, 76, 78, 80, 82, 84, 86, 88, 90, 92, 94, 96, 98]\n"
     ]
    }
   ],
   "source": [
    "print(list(range(0, 100, 2)))"
   ]
  },
  {
   "cell_type": "code",
   "execution_count": 35,
   "id": "b7482178",
   "metadata": {},
   "outputs": [
    {
     "name": "stdout",
     "output_type": "stream",
     "text": [
      "0 name: Adit\n",
      "1 name: Bagus\n",
      "2 name: Daniel\n",
      "4 name: Ilham\n",
      "5 name: Maria\n"
     ]
    }
   ],
   "source": [
    "for i in range(len(names)):\n",
    "    if (i % 3 == 0) and (i != 0):\n",
    "        continue\n",
    "    print(i, \"name:\", names[i])"
   ]
  },
  {
   "cell_type": "code",
   "execution_count": null,
   "id": "f9f6d3a8",
   "metadata": {},
   "outputs": [],
   "source": []
  }
 ],
 "metadata": {
  "interpreter": {
   "hash": "ecf5722fdaf1897a315d257d89d94520bfcaa453217d5becf09b39e73618b0de"
  },
  "kernelspec": {
   "display_name": "Python 3",
   "language": "python",
   "name": "python3"
  },
  "language_info": {
   "codemirror_mode": {
    "name": "ipython",
    "version": 3
   },
   "file_extension": ".py",
   "mimetype": "text/x-python",
   "name": "python",
   "nbconvert_exporter": "python",
   "pygments_lexer": "ipython3",
   "version": "3.9.4"
  },
  "toc": {
   "base_numbering": 1,
   "nav_menu": {},
   "number_sections": false,
   "sideBar": true,
   "skip_h1_title": true,
   "title_cell": "Table of Contents",
   "title_sidebar": "Contents",
   "toc_cell": false,
   "toc_position": {},
   "toc_section_display": true,
   "toc_window_display": true
  }
 },
 "nbformat": 4,
 "nbformat_minor": 5
}
